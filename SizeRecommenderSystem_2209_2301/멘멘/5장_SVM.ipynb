{
  "nbformat": 4,
  "nbformat_minor": 0,
  "metadata": {
    "colab": {
      "name": "5장_SVM",
      "provenance": [],
      "collapsed_sections": []
    },
    "kernelspec": {
      "name": "python3",
      "display_name": "Python 3"
    },
    "language_info": {
      "name": "python"
    }
  },
  "cells": [
    {
      "cell_type": "markdown",
      "source": [
        "##5.1 소프트 마진 분류\n"
      ],
      "metadata": {
        "id": "L5RmrsulnLhn"
      }
    },
    {
      "cell_type": "code",
      "execution_count": 4,
      "metadata": {
        "id": "yh5kB-iqmqKh"
      },
      "outputs": [],
      "source": [
        "import numpy as np \n",
        "from sklearn import datasets \n",
        "from sklearn.pipeline import Pipeline \n",
        "from sklearn.preprocessing import StandardScaler \n",
        "from sklearn.svm import LinearSVC \n"
      ]
    },
    {
      "cell_type": "code",
      "source": [
        "iris = datasets. load_iris() \n",
        "X = iris[ \"data\" ] [: , (2, 3)] # 꽃잎 길이， 꽃잎 너비 \n",
        "y = (iris[ \"target\" ] == 2) .astype (np . float64) # Iris-Virginica \n",
        "\n",
        "svm_clf = Pipeline ([\n",
        "    (\" scaler\" , StandardScaler()), \n",
        "    (\" linear _svc\" , LinearSVC(C=1 , loss=\"hinge\" )), \n",
        "    ]) \n",
        "\n",
        "svm_clf.fit (X, y)"
      ],
      "metadata": {
        "colab": {
          "base_uri": "https://localhost:8080/"
        },
        "id": "gRDSv4d0m599",
        "outputId": "e7d6f5e7-1cd6-47ab-b10c-ff33c7faf59f"
      },
      "execution_count": 5,
      "outputs": [
        {
          "output_type": "execute_result",
          "data": {
            "text/plain": [
              "Pipeline(steps=[(' scaler', StandardScaler()),\n",
              "                (' linear _svc', LinearSVC(C=1, loss='hinge'))])"
            ]
          },
          "metadata": {},
          "execution_count": 5
        }
      ]
    },
    {
      "cell_type": "code",
      "source": [
        " svm_clf . predict ([[5.5, 1.7]]) "
      ],
      "metadata": {
        "colab": {
          "base_uri": "https://localhost:8080/"
        },
        "id": "n7ZqnL7inFrg",
        "outputId": "61dee1d3-76e6-44f2-f5a2-6d6c12a54eb5"
      },
      "execution_count": 6,
      "outputs": [
        {
          "output_type": "execute_result",
          "data": {
            "text/plain": [
              "array([1.])"
            ]
          },
          "metadata": {},
          "execution_count": 6
        }
      ]
    },
    {
      "cell_type": "markdown",
      "source": [
        "## 5.2 비선형 SVM 분류\n"
      ],
      "metadata": {
        "id": "NjRQ1QyOnRbc"
      }
    },
    {
      "cell_type": "code",
      "source": [
        "from sklearn.datasets import make_moons \n",
        "from sklearn.pipeline import Pipeline \n",
        "from sklearn.preprocessing import PolynomialFeatures "
      ],
      "metadata": {
        "id": "CEHynxHanRIV"
      },
      "execution_count": 7,
      "outputs": []
    },
    {
      "cell_type": "code",
      "source": [
        "X, y = make_moons(n_samples=100, noise=0.15) \n",
        "polynomial_svm_clf = Pipeline([ \n",
        "    (\"poly_features\", PolynomialFeatures(degree=3)), \n",
        "    (\"scaler\", StandardScaler()), \n",
        "    (\"svm_clf\", LinearSVC(C=10, loss=\"hinge\")) \n",
        "    ])\n",
        "\n",
        "polynomial_svm_clf.fit(X, y)"
      ],
      "metadata": {
        "colab": {
          "base_uri": "https://localhost:8080/"
        },
        "id": "XD76-NBUnHPU",
        "outputId": "6d545be1-1974-4226-83f5-e0b413dbe69e"
      },
      "execution_count": 8,
      "outputs": [
        {
          "output_type": "execute_result",
          "data": {
            "text/plain": [
              "Pipeline(steps=[('poly_features', PolynomialFeatures(degree=3)),\n",
              "                ('scaler', StandardScaler()),\n",
              "                ('svm_clf', LinearSVC(C=10, loss='hinge'))])"
            ]
          },
          "metadata": {},
          "execution_count": 8
        }
      ]
    },
    {
      "cell_type": "markdown",
      "source": [
        "### 5.2.1 다항식 커널"
      ],
      "metadata": {
        "id": "VV0BoVjSoPNi"
      }
    },
    {
      "cell_type": "code",
      "source": [
        "from sklearn.svm import SVC \n",
        "\n",
        "poly_kernel_svm_clf = Pipeline ([ \n",
        "    ( \"scaler\" , StandardScaler()),\n",
        "    (\" svm_clf\" , SVC (kernel=\"poly\" , degree=3, coef0=1 , C=5))\n",
        "    ])\n",
        " \n",
        "poly_kernel_svm_clf.fit (X, y)"
      ],
      "metadata": {
        "colab": {
          "base_uri": "https://localhost:8080/"
        },
        "id": "_575NztMnnKz",
        "outputId": "b129bf75-b024-4ab9-d61e-1614a586b5f9"
      },
      "execution_count": 9,
      "outputs": [
        {
          "output_type": "execute_result",
          "data": {
            "text/plain": [
              "Pipeline(steps=[('scaler', StandardScaler()),\n",
              "                (' svm_clf', SVC(C=5, coef0=1, kernel='poly'))])"
            ]
          },
          "metadata": {},
          "execution_count": 9
        }
      ]
    },
    {
      "cell_type": "markdown",
      "source": [
        "### 5.2.2 유사도 특성"
      ],
      "metadata": {
        "id": "IiZFq6f6L29s"
      }
    },
    {
      "cell_type": "markdown",
      "source": [
        "### 5.2.3 가우시안 RBF 터널"
      ],
      "metadata": {
        "id": "I-0X0adpL9PC"
      }
    },
    {
      "cell_type": "code",
      "source": [
        "rbf_kernel_svm_clf = Pipeline([\n",
        "    (\"scaler\" , StandardScaler()), \n",
        "    (\"svm_clf\" , SVC(kernel=\"rbf\" , gamma=5, C=0.001)) \n",
        "    ])\n",
        " \n",
        "rbf_kernel_svm_clf .fit (X, y)"
      ],
      "metadata": {
        "colab": {
          "base_uri": "https://localhost:8080/"
        },
        "id": "lkOhoBdgoc9g",
        "outputId": "820fc7a7-7d1c-450e-8d92-ce3e6d325d49"
      },
      "execution_count": 10,
      "outputs": [
        {
          "output_type": "execute_result",
          "data": {
            "text/plain": [
              "Pipeline(steps=[('scaler', StandardScaler()),\n",
              "                ('svm_clf', SVC(C=0.001, gamma=5))])"
            ]
          },
          "metadata": {},
          "execution_count": 10
        }
      ]
    },
    {
      "cell_type": "markdown",
      "source": [
        "### 5.2.4 계산 복잡도"
      ],
      "metadata": {
        "id": "bQqDqf0uMZCd"
      }
    },
    {
      "cell_type": "markdown",
      "source": [
        "## 5.3 SVM 회귀"
      ],
      "metadata": {
        "id": "GlHaDF00MkLQ"
      }
    },
    {
      "cell_type": "code",
      "source": [
        "from sklearn.svm import LinearSVR \n",
        "\n",
        "svm_reg = LinearSVR(epsilon=1.5) \n",
        "svm_reg .fit (X, y) "
      ],
      "metadata": {
        "colab": {
          "base_uri": "https://localhost:8080/"
        },
        "id": "5zzhqoZBMFqv",
        "outputId": "85288750-81d9-4cc6-abb2-4fdd0af5673a"
      },
      "execution_count": 11,
      "outputs": [
        {
          "output_type": "execute_result",
          "data": {
            "text/plain": [
              "LinearSVR(epsilon=1.5)"
            ]
          },
          "metadata": {},
          "execution_count": 11
        }
      ]
    },
    {
      "cell_type": "code",
      "source": [
        "from sklearn.svm import SVR \n",
        "\n",
        "svm_poly_reg = SVR(kernel=\"poly\", degree=2, C=100, epsilon=0.1) \n",
        "svm_poly_reg .fit(X, y)"
      ],
      "metadata": {
        "colab": {
          "base_uri": "https://localhost:8080/"
        },
        "id": "GN1jQsswNdvq",
        "outputId": "ce481ea9-1d40-4a92-e0e0-fd9711a271ad"
      },
      "execution_count": 17,
      "outputs": [
        {
          "output_type": "execute_result",
          "data": {
            "text/plain": [
              "SVR(C=100, degree=2, kernel='poly')"
            ]
          },
          "metadata": {},
          "execution_count": 17
        }
      ]
    },
    {
      "cell_type": "markdown",
      "source": [
        "## 5.4 SVM 이론"
      ],
      "metadata": {
        "id": "moszfV_CNrY7"
      }
    }
  ]
}