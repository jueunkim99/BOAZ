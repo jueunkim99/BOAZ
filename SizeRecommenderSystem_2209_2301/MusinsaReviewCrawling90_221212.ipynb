{
 "cells": [
  {
   "cell_type": "markdown",
   "id": "d4cdd65d",
   "metadata": {},
   "source": [
    "# 무신사 상품 리뷰 크롤링(crawling)"
   ]
  },
  {
   "cell_type": "markdown",
   "id": "13766f0f",
   "metadata": {},
   "source": [
    "### 환경설정"
   ]
  },
  {
   "cell_type": "code",
   "execution_count": 1,
   "id": "2102af7c",
   "metadata": {},
   "outputs": [],
   "source": [
    "#필요하면 설치하기\n",
    "#!pip install webdriver-manager\n",
    "#from selenium import webdriver\n",
    "#from webdriver_manager.chrome import ChromeDriverManager\n",
    "#driver = webdriver.Chrome(ChromeDriverManager().install())\n",
    "#!pip install selenium"
   ]
  },
  {
   "cell_type": "code",
   "execution_count": 2,
   "id": "dd99b741",
   "metadata": {},
   "outputs": [],
   "source": [
    "import warnings\n",
    "warnings.filterwarnings(\"ignore\")\n",
    "from selenium import webdriver\n",
    "from bs4 import BeautifulSoup\n",
    "import time\n",
    "import re\n",
    "import math\n",
    "import pandas as pd\n",
    "\n",
    "from selenium.webdriver.common.keys import Keys\n",
    "from selenium.webdriver.common.by import By\n",
    "from html_table_parser import parser_functions as parser\n",
    "\n",
    " "
   ]
  },
  {
   "cell_type": "code",
   "execution_count": 3,
   "id": "c99b7e27",
   "metadata": {},
   "outputs": [],
   "source": [
    "#driver = webdriver.Chrome('chromedriver.exe')\n",
    "#위치: C:\\Users\\rlawndms\\boaz_삭제절대금지\n",
    "#executable_path='C:/Users/rlawndms/boaz_삭제절대금지/chromedriver.exe'\n",
    "#8페이지\n",
    "options = webdriver.ChromeOptions()\n",
    "options.add_experimental_option(\"excludeSwitches\", [\"enable-logging\"])\n",
    "driver = webdriver.Chrome(options=options)\n",
    "driver.get('https://www.musinsa.com/categories/item/001004?d_cat_cd=001004&brand=&list_kind=small&sort=emt_high&sub_sort=&page=8&display_cnt=90&group_sale=&exclusive_yn=&sale_goods=&timesale_yn=&ex_soldout=&kids=&color=&price1=&price2=&shoeSizeOption=&tags=&campaign_id=&includeKeywords=&measure=')\n",
    "time.sleep(3)"
   ]
  },
  {
   "cell_type": "code",
   "execution_count": 4,
   "id": "ccd37928",
   "metadata": {},
   "outputs": [],
   "source": [
    " #user, gender,height,weight,item, size,content, evaluation(size_eval,bright_eval,color_eval,thick_eval)\n",
    "user_list = []\n",
    "gender_list =[]\n",
    "height_list = []\n",
    "weight_list =[]\n",
    "item_list = []\n",
    "size_list = []\n",
    "star_list= []\n",
    "content_list = []\n",
    "size_eval_list =[]\n",
    "bright_eval_list =[]\n",
    "color_eval_list =[]\n",
    "thick_eval_list =[]\n",
    "#함수정의\n",
    "def get_content(driver):\n",
    "    #함수안에 html, soup 넣어놔야 페이지 넘어가서 바르게 긁어옴, 밖에 빼놓으면 첫페이지만 여러번 긁어진다.\n",
    "    html = driver.page_source\n",
    "    soup = BeautifulSoup(html,'lxml')\n",
    "    for i in range(10):\n",
    "    \n",
    "    #profile(gender,height,weight)\n",
    "    #<p class=\"review-profile__body_information\">남성, 177cm, 85kg</p>\n",
    "        profile_before = soup.find_all('p','review-profile__body_information')\n",
    "        profile_after = profile_before[i].text.split(',')\n",
    "        try:\n",
    "            gender = profile_after[0]\n",
    "            height = profile_after[1]\n",
    "            weight = profile_after[2]\n",
    "        except:\n",
    "            gender = ''\n",
    "            height = ''\n",
    "            weight = ''\n",
    "#user :<p class=\"review-profile__name\">LV 2 뉴비_95f88e16</p>           \n",
    "#item: #/<a href=\"https://www.musinsa.com/app/goods/1231416/0\" class=\"review-goods-information__name\">테이퍼드 히든 밴딩 크롭 슬랙스 [더스티 베이지]</a>\n",
    "#size :<span class=\"review-goods-information__option\">\n",
    "#content\n",
    "\n",
    "        try:\n",
    "            user = soup.find_all('p','review-profile__name')[i].text\n",
    "            item = soup.find_all('a','review-goods-information__name')[i].text\n",
    "            # '/n' 없애고 추출하기\n",
    "            size = soup.find_all('span', 'review-goods-information__option')[i].text.strip().replace('\\n','')\n",
    "            content = soup.find_all('div','review-contents__text')[i].text\n",
    "        except:\n",
    "            user = ''\n",
    "            item = ''\n",
    "            size = ''\n",
    "            content = ''\n",
    "            \n",
    "        #star\n",
    "#->별 5개일때:<span class=\"review-list__rating__active\" style=\"width: 100%\"></span>\n",
    "#->별 4개일때:<span class=\"review-list__rating__active\" style=\"width: 80%\"></span>\n",
    "        stars = driver.find_elements_by_xpath('//*[@id=\"reviewListFragment\"]/div['+str(i+1)+']/div[3]/span/span/span')\n",
    "        try:\n",
    "            for j in stars:\n",
    "                a =j.get_attribute('style')\n",
    "                if a[7:9]=='20':\n",
    "                    star = 1\n",
    "                elif a[7:9]=='40':\n",
    "                    star = 2\n",
    "                elif a[7:9]=='60':\n",
    "                    star = 3\n",
    "                elif a[7:9]=='80':\n",
    "                    star = 4\n",
    "                else:\n",
    "                    star = 5\n",
    "        except:\n",
    "            star = ''\n",
    "      \n",
    "\n",
    "    #evaluation\n",
    "        evaluation = soup.find_all('div', 'review-evaluation')\n",
    "        try:\n",
    "            size_eval = evaluation[i].find_all('span')[0].text\n",
    "            bright_eval = evaluation[i].find_all('span')[1].text\n",
    "            color_eval = evaluation[i].find_all('span')[2].text\n",
    "            thick_eval = evaluation[i].find_all('span')[3].text\n",
    "        except:\n",
    "            size_eval = ''\n",
    "            bright_eval = ''\n",
    "            color_eval = ''\n",
    "            thick_eval = ''\n",
    "\n",
    "#user,gender,height,weight,item, size,content,star,size_eval,bright_eval,color_eval,thick_eval\n",
    "        \n",
    "        user_list.append(user)\n",
    "        gender_list.append(gender)\n",
    "        height_list.append(height)\n",
    "        weight_list.append(weight)\n",
    "        item_list.append(item)\n",
    "        size_list.append(size)\n",
    "        content_list.append(content)\n",
    "        star_list.append(star)\n",
    "        size_eval_list.append(size_eval)\n",
    "        bright_eval_list.append(bright_eval)\n",
    "        color_eval_list.append(color_eval)\n",
    "        thick_eval_list.append(thick_eval)\n",
    "  \n",
    "   \n",
    "        \n"
   ]
  },
  {
   "cell_type": "code",
   "execution_count": 5,
   "id": "d6f2e1cb",
   "metadata": {},
   "outputs": [],
   "source": [
    "#버튼 누르기 함수정의\n",
    "def move_next(driver):    \n",
    "    for i in range(4):\n",
    "        get_content(driver)\n",
    "        #페이지 2,3,4,5 넘어가기\n",
    "        driver.find_element_by_css_selector('#reviewListFragment > div.nslist_bottom > div.pagination.textRight > div > a:nth-child(' + \n",
    "                                            str(int(4) + int(i)) + ')').send_keys(Keys.ENTER)\n",
    "        time.sleep(2)\n",
    "    get_content(driver)\n",
    "    \n",
    "#그다음 화살표'>'버튼누르기: (6,7,8...)있는 페이지로 넘어가기   \n",
    "def move_arrow(driver):\n",
    "    driver.find_element_by_css_selector('#reviewListFragment > div.nslist_bottom > div.pagination.textRight > div > a.fa.fa-angle-right.paging-btn.btn.next').send_keys(Keys.ENTER)\n",
    "    "
   ]
  },
  {
   "cell_type": "markdown",
   "id": "50ec37c5",
   "metadata": {},
   "source": [
    "### 크롤링시작"
   ]
  },
  {
   "cell_type": "code",
   "execution_count": 7,
   "id": "95861901",
   "metadata": {},
   "outputs": [
    {
     "name": "stdout",
     "output_type": "stream",
     "text": [
      "25\n",
      "31\n",
      "90.13806 sec\n"
     ]
    }
   ],
   "source": [
    "#후기순 90개 자동으로 클릭하기\n",
    "#뒤로가기 참고: https://m.blog.naver.com/mathesis_time/221970036063\n",
    "# #searchList > li:nth-child(1) > div.li_inner > div.list_img > a > img\n",
    "# #searchList > li:nth-child(2) > div.li_inner > div.list_img > a > img\n",
    "# #searchList > li:nth-child(90) > div.li_inner > div.list_img > a > img\n",
    " #90개: 90\n",
    "\n",
    "start = time.time()\n",
    "math.factorial(100000)\n",
    "\n",
    "#상품개수에 따라 숫자 바꾸기\n",
    "for i in range(1,3,1):\n",
    "    driver.find_element_by_css_selector('#searchList > li:nth-child(' +\n",
    "                                            str(int(i)) +\n",
    "                                            ') > div.li_inner > div.list_img > a > img').click()\n",
    "    time.sleep(2)\n",
    "\n",
    "\n",
    "    try:\n",
    "        driver.find_element_by_xpath('/html/body/div/div/div/button').click()\n",
    "        driver.find_element_by_xpath('//*[@id=\"divpop_goods_niceghostclub_8451\"]/form/button[2]').click()\n",
    "    except:\n",
    "        pass\n",
    "        \n",
    "        #사이즈표\n",
    "    try:\n",
    "        html = driver.page_source\n",
    "        soup = BeautifulSoup(html,'html.parser')\n",
    "        figure = soup.find('table',{'class':'table_th_grey'})\n",
    "        p = parser.make2d(figure)\n",
    "        figure_df = pd.DataFrame(data = p[1:],columns = p[0])\n",
    "        figure_df.drop([0,1],inplace = True)\n",
    "        #print(figure_df)\n",
    "    except:\n",
    "        print(\"사이즈표 오류발생\")\n",
    "        \n",
    "        #리뷰개수\n",
    "    try:\n",
    "        reviewNum = driver.find_element_by_xpath('//*[@id=\"estimate_style\"]')\n",
    "        reviewNum = reviewNum.text\n",
    "        reviewNum = re.sub(r'[^0-9]','',reviewNum)\n",
    "        reviewNum = int(reviewNum)\n",
    "        print(reviewNum)\n",
    "    except:\n",
    "        print(\"리뷰개수 오류발생\")\n",
    "        \n",
    "\n",
    "    user_list = []\n",
    "    gender_list =[]\n",
    "    height_list = []\n",
    "    weight_list =[]\n",
    "    item_list = []\n",
    "    size_list = []\n",
    "    star_list= []\n",
    "    content_list = []\n",
    "    size_eval_list =[]\n",
    "    bright_eval_list =[]\n",
    "    color_eval_list =[]\n",
    "    thick_eval_list =[]\n",
    "        \n",
    "        #스타일후기리뷰 100개넘으면 진행,아니라면 진행 X\n",
    "    if reviewNum >= 20:\n",
    "        #크롤링\n",
    "        #10:500개, 2:100개\n",
    "        for i in range(2):\n",
    "            try:\n",
    "                move_next(driver)\n",
    "                move_arrow(driver)\n",
    "        #move_next(driver)\n",
    "            except:\n",
    "                time.sleep(2)\n",
    "                    \n",
    "\n",
    "                    \n",
    "                    #뒤로가기\n",
    "        driver.back()\n",
    "        time.sleep(2)\n",
    "    else:\n",
    "        driver.back()\n",
    "\n",
    "    a = i        \n",
    "    time.sleep(2)    \n",
    "    globals()[\"df\"+str(a)] = pd.DataFrame({'user':user_list,\n",
    "                                           'gender':gender_list,\n",
    "                                           'height':height_list,\n",
    "                                           'weight':weight_list,\n",
    "                                            'item':item_list,\n",
    "                                            'size':size_list,\n",
    "                                            'star':star_list,\n",
    "                                            'content':content_list,\n",
    "                                            'size_eval':size_eval_list,\n",
    "                                            'bright_eval':bright_eval_list,\n",
    "                                            'color_eval':color_eval_list,\n",
    "                                            'thick_eval':thick_eval_list})          \n",
    "    #사이즈표와 리뷰 merge\n",
    "    time.sleep(2) \n",
    "    globals()[\"merge_df\"+str(a)] = pd.merge(globals()[\"df\"+str(a)],figure_df,how = 'left',left_on = 'size',right_on = 'cm')\n",
    "    a = a + 1      \n",
    "\n",
    "\n",
    "end = time.time()\n",
    "print(f\"{end - start:.5f} sec\")      \n"
   ]
  },
  {
   "cell_type": "code",
   "execution_count": 11,
   "id": "9a74a005",
   "metadata": {},
   "outputs": [
    {
     "data": {
      "text/plain": [
       "(18, 17)"
      ]
     },
     "execution_count": 11,
     "metadata": {},
     "output_type": "execute_result"
    }
   ],
   "source": [
    "#print(merge_df19.shape)#3,4,10없음 \n",
    "merge_df1.shape\n",
    "#merge"
   ]
  },
  {
   "cell_type": "code",
   "execution_count": 12,
   "id": "da7c2e00",
   "metadata": {},
   "outputs": [
    {
     "name": "stdout",
     "output_type": "stream",
     "text": [
      "(379, 17)\n",
      "(351, 17)\n"
     ]
    }
   ],
   "source": [
    "df85_90=pd.concat([merge_df10,merge_df11,merge_df12,merge_df13,merge_df14,\n",
    "                 merge_df15],\n",
    "                axis =0)\n",
    "print(df85_90.shape)\n",
    "df85_90.drop_duplicates(subset = None,keep = 'first',\n",
    "                        inplace = True,ignore_index = True)\n",
    "print(df85_90.shape)\n"
   ]
  },
  {
   "cell_type": "code",
   "execution_count": 13,
   "id": "57e08af6",
   "metadata": {},
   "outputs": [
    {
     "data": {
      "text/plain": [
       "(4018, 17)"
      ]
     },
     "execution_count": 13,
     "metadata": {},
     "output_type": "execute_result"
    }
   ],
   "source": [
    "df = pd.read_csv('후드후기순3페이지_221206.csv')\n",
    "#df.head()\n",
    "df.shape"
   ]
  },
  {
   "cell_type": "code",
   "execution_count": 14,
   "id": "3654ed8b",
   "metadata": {},
   "outputs": [
    {
     "name": "stdout",
     "output_type": "stream",
     "text": [
      "(4369, 17)\n",
      "(4028, 17)\n"
     ]
    }
   ],
   "source": [
    "#1~84\n",
    "dftotal = pd.concat([df85_90,df], axis = 0)\n",
    "print(dftotal.shape)\n",
    "dftotal.drop_duplicates(subset = None,keep = 'first',\n",
    "                        inplace = True,ignore_index = True)\n",
    "print(dftotal.shape)\n",
    "dftotal.to_csv('후드후기순3페이지_221206.csv',index = False)"
   ]
  },
  {
   "cell_type": "code",
   "execution_count": 15,
   "id": "84db88f2",
   "metadata": {},
   "outputs": [
    {
     "data": {
      "text/plain": [
       "(4028, 17)"
      ]
     },
     "execution_count": 15,
     "metadata": {},
     "output_type": "execute_result"
    }
   ],
   "source": [
    "df = pd.read_csv('후드후기순3페이지_221206.csv')\n",
    "#df.head()\n",
    "df.shape"
   ]
  },
  {
   "cell_type": "markdown",
   "id": "45a9befd",
   "metadata": {},
   "source": [
    "# 비고"
   ]
  },
  {
   "cell_type": "code",
   "execution_count": 5,
   "id": "44e90cf4",
   "metadata": {},
   "outputs": [],
   "source": [
    "# 할인쿠폰 창 없애기->그냥 수동으로 했음"
   ]
  },
  {
   "cell_type": "markdown",
   "id": "3e522c6b",
   "metadata": {},
   "source": [
    "* 참고\n",
    "* 글로벌, 로컬: https://www.nemonein.xyz/2021/02/4908/"
   ]
  }
 ],
 "metadata": {
  "kernelspec": {
   "display_name": "Python 3.9.12 ('base')",
   "language": "python",
   "name": "python3"
  },
  "language_info": {
   "codemirror_mode": {
    "name": "ipython",
    "version": 3
   },
   "file_extension": ".py",
   "mimetype": "text/x-python",
   "name": "python",
   "nbconvert_exporter": "python",
   "pygments_lexer": "ipython3",
   "version": "3.9.12"
  },
  "vscode": {
   "interpreter": {
    "hash": "ff4f85d6e04298634172ac5d8264e7e9b556b95639fe52ebb9425c4d4cba0c9c"
   }
  }
 },
 "nbformat": 4,
 "nbformat_minor": 5
}
