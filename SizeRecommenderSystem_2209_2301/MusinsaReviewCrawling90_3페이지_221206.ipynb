{
 "cells": [
  {
   "cell_type": "markdown",
   "id": "d4cdd65d",
   "metadata": {},
   "source": [
    "# 무신사 상품 리뷰 크롤링(crawling)"
   ]
  },
  {
   "cell_type": "markdown",
   "id": "13766f0f",
   "metadata": {},
   "source": [
    "### 환경설정"
   ]
  },
  {
   "cell_type": "code",
   "execution_count": 1,
   "id": "2102af7c",
   "metadata": {},
   "outputs": [],
   "source": [
    "#필요하면 설치하기\n",
    "#!pip install webdriver-manager\n",
    "#from selenium import webdriver\n",
    "#from webdriver_manager.chrome import ChromeDriverManager\n",
    "#driver = webdriver.Chrome(ChromeDriverManager().install())\n",
    "#!pip install selenium"
   ]
  },
  {
   "cell_type": "code",
   "execution_count": 2,
   "id": "dd99b741",
   "metadata": {},
   "outputs": [],
   "source": [
    "import warnings\n",
    "warnings.filterwarnings(\"ignore\")\n",
    "from selenium import webdriver\n",
    "from bs4 import BeautifulSoup\n",
    "import time\n",
    "import re\n",
    "import time\n",
    "import pandas as pd\n",
    "\n",
    "from selenium.webdriver.common.keys import Keys\n",
    "from selenium.webdriver.common.by import By\n",
    "from html_table_parser import parser_functions as parser\n",
    "\n",
    " "
   ]
  },
  {
   "cell_type": "code",
   "execution_count": 3,
   "id": "c99b7e27",
   "metadata": {},
   "outputs": [],
   "source": [
    "#driver = webdriver.Chrome('chromedriver.exe')\n",
    "#위치: C:\\Users\\rlawndms\\boaz_삭제절대금지\n",
    "#executable_path='C:/Users/rlawndms/boaz_삭제절대금지/chromedriver.exe'\n",
    "#3페이지\n",
    "options = webdriver.ChromeOptions()\n",
    "options.add_experimental_option(\"excludeSwitches\", [\"enable-logging\"])\n",
    "driver = webdriver.Chrome(options=options)\n",
    "driver.get('https://www.musinsa.com/categories/item/001004?d_cat_cd=001004&brand=&list_kind=small&sort=emt_high&sub_sort=&page=3&display_cnt=90&group_sale=&exclusive_yn=&sale_goods=&timesale_yn=&ex_soldout=&kids=&color=&price1=&price2=&shoeSizeOption=&tags=&campaign_id=&includeKeywords=&measure=')\n",
    "time.sleep(3)"
   ]
  },
  {
   "cell_type": "code",
   "execution_count": 4,
   "id": "ccd37928",
   "metadata": {},
   "outputs": [],
   "source": [
    " #user, gender,height,weight,item, size,content, evaluation(size_eval,bright_eval,color_eval,thick_eval)\n",
    "user_list = []\n",
    "gender_list =[]\n",
    "height_list = []\n",
    "weight_list =[]\n",
    "item_list = []\n",
    "size_list = []\n",
    "star_list= []\n",
    "content_list = []\n",
    "size_eval_list =[]\n",
    "bright_eval_list =[]\n",
    "color_eval_list =[]\n",
    "thick_eval_list =[]\n",
    "#함수정의\n",
    "def get_content(driver):\n",
    "    #함수안에 html, soup 넣어놔야 페이지 넘어가서 바르게 긁어옴, 밖에 빼놓으면 첫페이지만 여러번 긁어진다.\n",
    "    html = driver.page_source\n",
    "    soup = BeautifulSoup(html,'lxml')\n",
    "    for i in range(10):\n",
    "    \n",
    "    #profile(gender,height,weight)\n",
    "    #<p class=\"review-profile__body_information\">남성, 177cm, 85kg</p>\n",
    "        profile_before = soup.find_all('p','review-profile__body_information')\n",
    "        profile_after = profile_before[i].text.split(',')\n",
    "        try:\n",
    "            gender = profile_after[0]\n",
    "            height = profile_after[1]\n",
    "            weight = profile_after[2]\n",
    "        except:\n",
    "            gender = ''\n",
    "            height = ''\n",
    "            weight = ''\n",
    "#user :<p class=\"review-profile__name\">LV 2 뉴비_95f88e16</p>           \n",
    "#item: #/<a href=\"https://www.musinsa.com/app/goods/1231416/0\" class=\"review-goods-information__name\">테이퍼드 히든 밴딩 크롭 슬랙스 [더스티 베이지]</a>\n",
    "#size :<span class=\"review-goods-information__option\">\n",
    "#content\n",
    "\n",
    "        try:\n",
    "            user = soup.find_all('p','review-profile__name')[i].text\n",
    "            item = soup.find_all('a','review-goods-information__name')[i].text\n",
    "            # '/n' 없애고 추출하기\n",
    "            size = soup.find_all('span', 'review-goods-information__option')[i].text.strip().replace('\\n','')\n",
    "            content = soup.find_all('div','review-contents__text')[i].text\n",
    "        except:\n",
    "            user = ''\n",
    "            item = ''\n",
    "            size = ''\n",
    "            content = ''\n",
    "            \n",
    "        #star\n",
    "#->별 5개일때:<span class=\"review-list__rating__active\" style=\"width: 100%\"></span>\n",
    "#->별 4개일때:<span class=\"review-list__rating__active\" style=\"width: 80%\"></span>\n",
    "        stars = driver.find_elements_by_xpath('//*[@id=\"reviewListFragment\"]/div['+str(i+1)+']/div[3]/span/span/span')\n",
    "        try:\n",
    "            for j in stars:\n",
    "                a =j.get_attribute('style')\n",
    "                if a[7:9]=='20':\n",
    "                    star = 1\n",
    "                elif a[7:9]=='40':\n",
    "                    star = 2\n",
    "                elif a[7:9]=='60':\n",
    "                    star = 3\n",
    "                elif a[7:9]=='80':\n",
    "                    star = 4\n",
    "                else:\n",
    "                    star = 5\n",
    "        except:\n",
    "            star = ''\n",
    "      \n",
    "\n",
    "    #evaluation\n",
    "        evaluation = soup.find_all('div', 'review-evaluation')\n",
    "        try:\n",
    "            size_eval = evaluation[i].find_all('span')[0].text\n",
    "            bright_eval = evaluation[i].find_all('span')[1].text\n",
    "            color_eval = evaluation[i].find_all('span')[2].text\n",
    "            thick_eval = evaluation[i].find_all('span')[3].text\n",
    "        except:\n",
    "            size_eval = ''\n",
    "            bright_eval = ''\n",
    "            color_eval = ''\n",
    "            thick_eval = ''\n",
    "\n",
    "#user,gender,height,weight,item, size,content,star,size_eval,bright_eval,color_eval,thick_eval\n",
    "        \n",
    "        user_list.append(user)\n",
    "        gender_list.append(gender)\n",
    "        height_list.append(height)\n",
    "        weight_list.append(weight)\n",
    "        item_list.append(item)\n",
    "        size_list.append(size)\n",
    "        content_list.append(content)\n",
    "        star_list.append(star)\n",
    "        size_eval_list.append(size_eval)\n",
    "        bright_eval_list.append(bright_eval)\n",
    "        color_eval_list.append(color_eval)\n",
    "        thick_eval_list.append(thick_eval)\n",
    "  \n",
    "   \n",
    "        \n"
   ]
  },
  {
   "cell_type": "code",
   "execution_count": 5,
   "id": "d6f2e1cb",
   "metadata": {},
   "outputs": [],
   "source": [
    "#버튼 누르기 함수정의\n",
    "def move_next(driver):    \n",
    "    for i in range(4):\n",
    "        get_content(driver)\n",
    "        #페이지 2,3,4,5 넘어가기\n",
    "        driver.find_element_by_css_selector('#reviewListFragment > div.nslist_bottom > div.pagination.textRight > div > a:nth-child(' + \n",
    "                                            str(int(4) + int(i)) + ')').send_keys(Keys.ENTER)\n",
    "        time.sleep(2)\n",
    "    get_content(driver)\n",
    "    \n",
    "#그다음 화살표'>'버튼누르기: (6,7,8...)있는 페이지로 넘어가기   \n",
    "def move_arrow(driver):\n",
    "    driver.find_element_by_css_selector('#reviewListFragment > div.nslist_bottom > div.pagination.textRight > div > a.fa.fa-angle-right.paging-btn.btn.next').send_keys(Keys.ENTER)\n",
    "    "
   ]
  },
  {
   "cell_type": "markdown",
   "id": "50ec37c5",
   "metadata": {},
   "source": [
    "### 크롤링시작"
   ]
  },
  {
   "cell_type": "code",
   "execution_count": 8,
   "id": "95861901",
   "metadata": {},
   "outputs": [
    {
     "name": "stdout",
     "output_type": "stream",
     "text": [
      "   cm  총장 어깨너비 가슴단면 소매길이\n",
      "2   S  63   55   56   60\n",
      "3   M  67   58   59   62\n",
      "4   L  69   60   61   63\n",
      "5  XL  71   62   63   64\n",
      "235\n",
      "    cm  총장 어깨너비 가슴단면 소매길이\n",
      "2    M  68   64   64   58\n",
      "3    L  70   66   66   59\n",
      "4   XL  72   68   68   60\n",
      "5  2XL  74   70   70   61\n",
      "562\n",
      "  cm  총장 어깨너비 가슴단면 소매길이\n",
      "2  M  71   58   67   62\n",
      "3  L  73   60   69   64\n",
      "72\n",
      "  cm  총장 어깨너비 가슴단면 소매길이\n",
      "2  S  68   62   70   61\n",
      "3  M  70   64   72   62\n",
      "4  L  72   66   74   63\n",
      "81\n"
     ]
    }
   ],
   "source": [
    "#후기순 90개 자동으로 클릭하기\n",
    "#뒤로가기 참고: https://m.blog.naver.com/mathesis_time/221970036063\n",
    "# #searchList > li:nth-child(1) > div.li_inner > div.list_img > a > img\n",
    "# #searchList > li:nth-child(2) > div.li_inner > div.list_img > a > img\n",
    "# #searchList > li:nth-child(90) > div.li_inner > div.list_img > a > img\n",
    " #90개: 90\n",
    "a = 12\n",
    "#상품개수에 따라 숫자 바꾸기\n",
    "for i in range(87,91,1):\n",
    "    driver.find_element_by_css_selector('#searchList > li:nth-child(' +\n",
    "                                            str(int(i)) +\n",
    "                                            ') > div.li_inner > div.list_img > a > img').click()\n",
    "    time.sleep(2)\n",
    "        \n",
    "        #사이즈표\n",
    "    try:\n",
    "        html = driver.page_source\n",
    "        soup = BeautifulSoup(html,'html.parser')\n",
    "        figure = soup.find('table',{'class':'table_th_grey'})\n",
    "        p = parser.make2d(figure)\n",
    "        figure_df = pd.DataFrame(data = p[1:],columns = p[0])\n",
    "        figure_df.drop([0,1],inplace = True)\n",
    "        print(figure_df)\n",
    "    except:\n",
    "        print(\"사이즈표 오류발생\")\n",
    "        \n",
    "        #리뷰개수\n",
    "    try:\n",
    "        reviewNum = driver.find_element_by_xpath('//*[@id=\"estimate_style\"]')\n",
    "        reviewNum = reviewNum.text\n",
    "        reviewNum = re.sub(r'[^0-9]','',reviewNum)\n",
    "        reviewNum = int(reviewNum)\n",
    "        print(reviewNum)\n",
    "    except:\n",
    "        print(\"리뷰개수 오류발생\")\n",
    "        \n",
    "\n",
    "    user_list = []\n",
    "    gender_list =[]\n",
    "    height_list = []\n",
    "    weight_list =[]\n",
    "    item_list = []\n",
    "    size_list = []\n",
    "    star_list= []\n",
    "    content_list = []\n",
    "    size_eval_list =[]\n",
    "    bright_eval_list =[]\n",
    "    color_eval_list =[]\n",
    "    thick_eval_list =[]\n",
    "        \n",
    "        #스타일후기리뷰 100개넘으면 진행,아니라면 진행 X\n",
    "    if reviewNum >= 100:\n",
    "        #크롤링\n",
    "        #10:500개, 2:100개\n",
    "        for i in range(2):\n",
    "            try:\n",
    "                move_next(driver)\n",
    "                move_arrow(driver)\n",
    "        #move_next(driver)\n",
    "            except:\n",
    "                time.sleep(2)\n",
    "                    \n",
    "\n",
    "                    \n",
    "                    #뒤로가기\n",
    "        driver.back()\n",
    "        time.sleep(2)\n",
    "    else:\n",
    "        driver.back()\n",
    "            \n",
    "    time.sleep(2)    \n",
    "    globals()[\"df\"+str(a)] = pd.DataFrame({'user':user_list,\n",
    "                                           'gender':gender_list,\n",
    "                                           'height':height_list,\n",
    "                                           'weight':weight_list,\n",
    "                                            'item':item_list,\n",
    "                                            'size':size_list,\n",
    "                                            'star':star_list,\n",
    "                                            'content':content_list,\n",
    "                                            'size_eval':size_eval_list,\n",
    "                                            'bright_eval':bright_eval_list,\n",
    "                                            'color_eval':color_eval_list,\n",
    "                                            'thick_eval':thick_eval_list})          \n",
    "    #사이즈표와 리뷰 merge\n",
    "    time.sleep(2) \n",
    "    globals()[\"merge_df\"+str(a)] = pd.merge(globals()[\"df\"+str(a)],figure_df,how = 'left',left_on = 'size',right_on = 'cm')\n",
    "    a = a + 1            \n"
   ]
  },
  {
   "cell_type": "code",
   "execution_count": 11,
   "id": "9a74a005",
   "metadata": {},
   "outputs": [
    {
     "data": {
      "text/html": [
       "<div>\n",
       "<style scoped>\n",
       "    .dataframe tbody tr th:only-of-type {\n",
       "        vertical-align: middle;\n",
       "    }\n",
       "\n",
       "    .dataframe tbody tr th {\n",
       "        vertical-align: top;\n",
       "    }\n",
       "\n",
       "    .dataframe thead th {\n",
       "        text-align: right;\n",
       "    }\n",
       "</style>\n",
       "<table border=\"1\" class=\"dataframe\">\n",
       "  <thead>\n",
       "    <tr style=\"text-align: right;\">\n",
       "      <th></th>\n",
       "      <th>user</th>\n",
       "      <th>gender</th>\n",
       "      <th>height</th>\n",
       "      <th>weight</th>\n",
       "      <th>item</th>\n",
       "      <th>size</th>\n",
       "      <th>star</th>\n",
       "      <th>content</th>\n",
       "      <th>size_eval</th>\n",
       "      <th>bright_eval</th>\n",
       "      <th>color_eval</th>\n",
       "      <th>thick_eval</th>\n",
       "      <th>cm</th>\n",
       "      <th>총장</th>\n",
       "      <th>어깨너비</th>\n",
       "      <th>가슴단면</th>\n",
       "      <th>소매길이</th>\n",
       "    </tr>\n",
       "  </thead>\n",
       "  <tbody>\n",
       "    <tr>\n",
       "      <th>0</th>\n",
       "      <td>LV 4 파란색깃발</td>\n",
       "      <td>남성</td>\n",
       "      <td>168cm</td>\n",
       "      <td>63kg</td>\n",
       "      <td>섹션 후드 블랙 [쭈리/기모 선택] YMHD6556 /YMHD6610</td>\n",
       "      <td>(쭈리)블랙/M</td>\n",
       "      <td>5</td>\n",
       "      <td>스트릿한 무드로 연출할 때 좋아용두께감도 적당해서 내년 봄까지 잘 입을래요</td>\n",
       "      <td>보통이에요</td>\n",
       "      <td>보통이에요</td>\n",
       "      <td>보통이에요</td>\n",
       "      <td>보통이에요</td>\n",
       "      <td>NaN</td>\n",
       "      <td>NaN</td>\n",
       "      <td>NaN</td>\n",
       "      <td>NaN</td>\n",
       "      <td>NaN</td>\n",
       "    </tr>\n",
       "  </tbody>\n",
       "</table>\n",
       "</div>"
      ],
      "text/plain": [
       "         user gender  height weight                                    item  \\\n",
       "0  LV 4 파란색깃발     남성   168cm   63kg  섹션 후드 블랙 [쭈리/기모 선택] YMHD6556 /YMHD6610   \n",
       "\n",
       "       size  star                                    content size_eval  \\\n",
       "0  (쭈리)블랙/M     5  스트릿한 무드로 연출할 때 좋아용두께감도 적당해서 내년 봄까지 잘 입을래요     보통이에요   \n",
       "\n",
       "  bright_eval color_eval thick_eval   cm   총장 어깨너비 가슴단면 소매길이  \n",
       "0       보통이에요      보통이에요      보통이에요  NaN  NaN  NaN  NaN  NaN  "
      ]
     },
     "execution_count": 11,
     "metadata": {},
     "output_type": "execute_result"
    }
   ],
   "source": [
    "#print(merge_df19.shape)#3,4,10없음 \n",
    "merge_df13.head(1)\n",
    "#merge"
   ]
  },
  {
   "cell_type": "code",
   "execution_count": 12,
   "id": "da7c2e00",
   "metadata": {},
   "outputs": [
    {
     "name": "stdout",
     "output_type": "stream",
     "text": [
      "(379, 17)\n",
      "(351, 17)\n"
     ]
    }
   ],
   "source": [
    "df85_90=pd.concat([merge_df10,merge_df11,merge_df12,merge_df13,merge_df14,\n",
    "                 merge_df15],\n",
    "                axis =0)\n",
    "print(df85_90.shape)\n",
    "df85_90.drop_duplicates(subset = None,keep = 'first',\n",
    "                        inplace = True,ignore_index = True)\n",
    "print(df85_90.shape)\n"
   ]
  },
  {
   "cell_type": "code",
   "execution_count": 13,
   "id": "57e08af6",
   "metadata": {},
   "outputs": [
    {
     "data": {
      "text/plain": [
       "(4018, 17)"
      ]
     },
     "execution_count": 13,
     "metadata": {},
     "output_type": "execute_result"
    }
   ],
   "source": [
    "df = pd.read_csv('후드후기순3페이지_221206.csv')\n",
    "#df.head()\n",
    "df.shape"
   ]
  },
  {
   "cell_type": "code",
   "execution_count": 14,
   "id": "3654ed8b",
   "metadata": {},
   "outputs": [
    {
     "name": "stdout",
     "output_type": "stream",
     "text": [
      "(4369, 17)\n",
      "(4028, 17)\n"
     ]
    }
   ],
   "source": [
    "#1~84\n",
    "dftotal = pd.concat([df85_90,df], axis = 0)\n",
    "print(dftotal.shape)\n",
    "dftotal.drop_duplicates(subset = None,keep = 'first',\n",
    "                        inplace = True,ignore_index = True)\n",
    "print(dftotal.shape)\n",
    "dftotal.to_csv('후드후기순3페이지_221206.csv',index = False)"
   ]
  },
  {
   "cell_type": "code",
   "execution_count": 15,
   "id": "84db88f2",
   "metadata": {},
   "outputs": [
    {
     "data": {
      "text/plain": [
       "(4028, 17)"
      ]
     },
     "execution_count": 15,
     "metadata": {},
     "output_type": "execute_result"
    }
   ],
   "source": [
    "df = pd.read_csv('후드후기순3페이지_221206.csv')\n",
    "#df.head()\n",
    "df.shape"
   ]
  },
  {
   "cell_type": "markdown",
   "id": "45a9befd",
   "metadata": {},
   "source": [
    "# 비고"
   ]
  },
  {
   "cell_type": "code",
   "execution_count": 5,
   "id": "44e90cf4",
   "metadata": {},
   "outputs": [],
   "source": [
    "# 할인쿠폰 창 없애기->그냥 수동으로 했음"
   ]
  },
  {
   "cell_type": "markdown",
   "id": "3e522c6b",
   "metadata": {},
   "source": [
    "* 참고\n",
    "* 글로벌, 로컬: https://www.nemonein.xyz/2021/02/4908/"
   ]
  }
 ],
 "metadata": {
  "kernelspec": {
   "display_name": "basek",
   "language": "python",
   "name": "base"
  },
  "language_info": {
   "codemirror_mode": {
    "name": "ipython",
    "version": 3
   },
   "file_extension": ".py",
   "mimetype": "text/x-python",
   "name": "python",
   "nbconvert_exporter": "python",
   "pygments_lexer": "ipython3",
   "version": "3.9.12 (main, Apr  4 2022, 05:22:27) [MSC v.1916 64 bit (AMD64)]"
  },
  "vscode": {
   "interpreter": {
    "hash": "ff4f85d6e04298634172ac5d8264e7e9b556b95639fe52ebb9425c4d4cba0c9c"
   }
  }
 },
 "nbformat": 4,
 "nbformat_minor": 5
}
