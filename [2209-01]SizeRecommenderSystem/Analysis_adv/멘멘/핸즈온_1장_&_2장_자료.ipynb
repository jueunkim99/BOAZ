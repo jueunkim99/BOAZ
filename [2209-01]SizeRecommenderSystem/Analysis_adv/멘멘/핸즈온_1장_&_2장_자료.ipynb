{
  "nbformat": 4,
  "nbformat_minor": 0,
  "metadata": {
    "colab": {
      "name": "핸즈온 1장 & 2장 자료.ipynb",
      "provenance": [],
      "collapsed_sections": [
        "uyMXEaoNnuTC",
        "TYkXTBDKzLgV",
        "rnTuombPOjQQ",
        "anBtE2v1z9Q8",
        "P0bHjmOC1G_z",
        "JMPf9eQ4E7jj",
        "y1SUYQHOGVcB",
        "hW_NbhjgHFau",
        "Lw1k6lRPRRPX",
        "dta4ONpKIwJI",
        "ZwDEpZ3BMc-n",
        "xC_bzsLdP4Yq"
      ]
    },
    "kernelspec": {
      "name": "python3",
      "display_name": "Python 3"
    },
    "language_info": {
      "name": "python"
    }
  },
  "cells": [
    {
      "cell_type": "markdown",
      "source": [
        "* 사전작업\n",
        "1. 구글드라이브와 연동하기!!\n",
        "2. 사용할 파일과 코드가 같은 폴더에 있어야 한다.(주피터와 코랩모두)\n",
        "\n",
        "\n",
        "\n",
        "**목적**: 데이터를 로드하고 산점도를 그려 시각화하여 선형모델을 훈련하고 예측함.\n",
        "\n",
        "\n",
        "***################????????##############***표시: 채워야 할곳입니다!\n"
      ],
      "metadata": {
        "id": "RWsnlqlqqytu"
      }
    },
    {
      "cell_type": "code",
      "source": [
        "#코랩이라면 연동\n",
        "from google.colab import drive\n",
        "drive.mount('/content/drive')"
      ],
      "metadata": {
        "id": "4EHypB7ordXW"
      },
      "execution_count": null,
      "outputs": []
    },
    {
      "cell_type": "code",
      "source": [
        "%cd /content/drive/MyDrive/#######경로설정하기######"
      ],
      "metadata": {
        "id": "59gKEPzWrf0b"
      },
      "execution_count": null,
      "outputs": []
    },
    {
      "cell_type": "markdown",
      "source": [
        "# 1장"
      ],
      "metadata": {
        "id": "uyMXEaoNnuTC"
      }
    },
    {
      "cell_type": "code",
      "source": [
        "# Python ≥3.5 이상이 권장됩니다\n",
        "import sys\n",
        "assert sys.version_info >= (3, 5)"
      ],
      "metadata": {
        "id": "gdgYbsStnyJV"
      },
      "execution_count": null,
      "outputs": []
    },
    {
      "cell_type": "code",
      "source": [
        "# Scikit-Learn ≥0.20 이상이 권장됩니다\n",
        "import sklearn\n",
        "assert sklearn.__version__ >= \"0.20\""
      ],
      "metadata": {
        "id": "FOGqG1grn7nM"
      },
      "execution_count": null,
      "outputs": []
    },
    {
      "cell_type": "markdown",
      "source": [
        "이 함수는 OECD의 삶의 만족도(life satisfaction) 데이터와 IMF의 1인당 GDP(GDP per capita) 데이터를 합치는 것."
      ],
      "metadata": {
        "id": "TDG3dBmMoDad"
      }
    },
    {
      "cell_type": "code",
      "source": [
        "def prepare_country_stats(oecd_bli, gdp_per_capita):\n",
        "    oecd_bli = oecd_bli[oecd_bli[\"INEQUALITY\"]==\"TOT\"]\n",
        "    oecd_bli = oecd_bli.pivot(index=\"Country\", columns=\"Indicator\", values=\"Value\")\n",
        "    gdp_per_capita.rename(columns={\"2015\": \"GDP per capita\"}, inplace=True)\n",
        "    gdp_per_capita.set_index(\"Country\", inplace=True)\n",
        "    full_country_stats = pd.merge(left=oecd_bli, right=gdp_per_capita,\n",
        "                                  left_index=True, right_index=True)\n",
        "    full_country_stats.sort_values(by=\"GDP per capita\", inplace=True)\n",
        "    remove_indices = [0, 1, 6, 8, 33, 34, 35]\n",
        "    keep_indices = list(set(range(36)) - set(remove_indices))\n",
        "    return full_country_stats[[\"GDP per capita\", 'Life satisfaction']].iloc[keep_indices]"
      ],
      "metadata": {
        "id": "diFCTc2QnxIp"
      },
      "execution_count": null,
      "outputs": []
    },
    {
      "cell_type": "code",
      "source": [
        "# 주피터에 그래프를 깔끔하게 그리기 위해서\n",
        "%matplotlib inline\n",
        "import matplotlib as mpl\n",
        "mpl.rc('axes', labelsize=14)\n",
        "mpl.rc('xtick', labelsize=12)\n",
        "mpl.rc('ytick', labelsize=12)"
      ],
      "metadata": {
        "id": "BOItXF4PqEqv"
      },
      "execution_count": null,
      "outputs": []
    },
    {
      "cell_type": "markdown",
      "source": [
        "OECD 데이터에는 키프로스 \n",
        "사람들이 얼마나행복한지 알아보려면 이 모델을 사용해 예측하기. 키프로스의 인당 \n",
        "GDP를 보면 22.587달러이므로 이를 모델에 적용하여 삶의 만족도를 도출!!"
      ],
      "metadata": {
        "id": "XQ3e-oigvXT0"
      }
    },
    {
      "cell_type": "code",
      "source": [
        "# 예제 코드\n",
        "import matplotlib.pyplot as plt\n",
        "import numpy as np\n",
        "import pandas as pd\n",
        "import sklearn.linear_model\n",
        "\n",
        "# 데이터 적재\n",
        "oecd_bli = pd.read_csv(\"oecd_bli_2015.csv\", thousands=',')\n",
        "gdp_per_capita = pd.read_csv(\"gdp_per_capita.csv\",thousands=',',delimiter='\\t',\n",
        "                             encoding='latin1', na_values=\"n/a\")\n",
        "\n",
        "# 데이터 준비\n",
        "country_stats = prepare_country_stats(oecd_bli, gdp_per_capita)\n",
        "X = np.c_[country_stats[\"GDP per capita\"]]\n",
        "y = np.c_[country_stats[\"Life satisfaction\"]]\n",
        "\n",
        "# 데이터 시각화\n",
        "country_stats.plot(kind='scatter', x=\"GDP per capita\", y='Life satisfaction')\n",
        "plt.show()\n",
        "\n",
        "# 선형 모델 선택\n",
        "model = ###############?????????????????################\n",
        "\n",
        "# 모델 훈련\n",
        "model.fit(X, y)\n",
        "\n",
        "# 키프로스에 대한 예측\n",
        "X_new = [[22587]]  # 키프로스 1인당 GDP\n",
        "print(model.predict(X_new)) # 출력 [[ 5.96242338]]"
      ],
      "metadata": {
        "id": "zCxAOvXRqLrp"
      },
      "execution_count": null,
      "outputs": []
    },
    {
      "cell_type": "markdown",
      "source": [
        " 사례기반의 학습 알고리즘을 사용한다면 먼저 1 인당 GDP가 키프로스와 가장 가끼운 슬로베니아(20.732달러}를 찾습니다 OECD 데이터에 있는 슬로베니아의 삶의 만족도가 5.7 이므로 키프로스의 \n",
        "삶의 만족도를 5.7로 예측합니다 조금 더 확대해서 그다음으로 가까운 두 나라를 더 고려하면 삶의 만족도가 \n",
        "5.1 과 6.5인 포르투갈과 스페인이 있습니다 이 세 값을 평균하면 모델 기반의 예측과 매우 비슷 \n",
        "한 5.77이 됩니다 이 간단한 알고리즘을 **k-최근접 이웃 회귀**라고 합니다. 여기서는 k= 3 입니다."
      ],
      "metadata": {
        "id": "2waNkaAju5fl"
      }
    },
    {
      "cell_type": "code",
      "source": [
        "# 데이터 적재\n",
        "oecd_bli = pd.read_csv(\"oecd_bli_2015.csv\", thousands=',')\n",
        "gdp_per_capita = pd.read_csv(\"gdp_per_capita.csv\",thousands=',',delimiter='\\t',\n",
        "                             encoding='latin1', na_values=\"n/a\")\n",
        "\n",
        "# 데이터 준비\n",
        "country_stats = prepare_country_stats(oecd_bli, gdp_per_capita)\n",
        "X = np.c_[country_stats[\"GDP per capita\"]]\n",
        "y = np.c_[country_stats[\"Life satisfaction\"]]\n",
        "\n",
        "# 데이터 시각화\n",
        "country_stats.plot(kind='scatter', x=\"GDP per capita\", y='Life satisfaction')\n",
        "plt.show()\n",
        "\n",
        "# 선형 모델 선택\n",
        "# 변경된 곳\n",
        "# 3-최근접 이웃 회귀 모델로 바꿉니다.\n",
        "#이전 코드에서 선형 회귀 모델을 k-최근접 이웃 회귀(이 경우 k=3)로 바꾸기\n",
        "import sklearn.neighbors\n",
        "model1 = sklearn.neighbors.KNeighborsRegressor(n_neighbors=###########????????##############)\n",
        "\n",
        "# 모델 훈련\n",
        "model1.fit(X, y)\n",
        "\n",
        "# 키프로스에 대한 예측\n",
        "X_new = [[22587]]  # 키프로스 1인당 GDP\n",
        "print(model1.predict(X_new)) # 출력 [[ 5.76666667]]"
      ],
      "metadata": {
        "id": "GAd2UjX6sv5J"
      },
      "execution_count": null,
      "outputs": []
    },
    {
      "cell_type": "markdown",
      "source": [
        "# 2장"
      ],
      "metadata": {
        "id": "TYkXTBDKzLgV"
      }
    },
    {
      "cell_type": "markdown",
      "source": [
        "## 환경설정"
      ],
      "metadata": {
        "id": "rnTuombPOjQQ"
      }
    },
    {
      "cell_type": "code",
      "source": [
        "# 공통 모듈 임포트\n",
        "import numpy as np\n",
        "import os\n",
        "\n",
        "# 깔끔한 그래프 출력을 위해\n",
        "%matplotlib inline\n",
        "import matplotlib as mpl\n",
        "import matplotlib.pyplot as plt\n",
        "mpl.rc('axes', labelsize=14)\n",
        "mpl.rc('xtick', labelsize=12)\n",
        "mpl.rc('ytick', labelsize=12)\n",
        "\n"
      ],
      "metadata": {
        "id": "DfZnsbtnzN3B"
      },
      "execution_count": null,
      "outputs": []
    },
    {
      "cell_type": "code",
      "source": [
        "import pandas as pd\n",
        "import tarfile\n",
        "import urllib.request"
      ],
      "metadata": {
        "id": "P_yXZ7hyzr92"
      },
      "execution_count": null,
      "outputs": []
    },
    {
      "cell_type": "code",
      "source": [
        "housing = pd.read_csv(\"housing.csv\")"
      ],
      "metadata": {
        "id": "WhRUQhZlz1Kr"
      },
      "execution_count": null,
      "outputs": []
    },
    {
      "cell_type": "markdown",
      "source": [
        "## 데이터 구조 훑어보기"
      ],
      "metadata": {
        "id": "anBtE2v1z9Q8"
      }
    },
    {
      "cell_type": "code",
      "source": [
        "housing.#####????????########"
      ],
      "metadata": {
        "id": "zKAxStw40BV9"
      },
      "execution_count": null,
      "outputs": []
    },
    {
      "cell_type": "code",
      "source": [
        "#info() 메서드는데이터에 대한간릭한설명과 히 전체 수 성의 데이터 타입과 \n",
        "#널이 아닌 값의 개수를 확인히는 데 유용합니다.\n",
        "housing.info()"
      ],
      "metadata": {
        "id": "aiSKaDwm0EsM"
      },
      "execution_count": null,
      "outputs": []
    },
    {
      "cell_type": "code",
      "source": [
        "# 어떤 카테고리가 있고 각 카태고리마다 얼마나 많은 구역이 있는지 value_counts() 메서드로 확인\n",
        "housing[\"ocean_proximity\"].value_counts()"
      ],
      "metadata": {
        "id": "tSU22rZR0HEn"
      },
      "execution_count": null,
      "outputs": []
    },
    {
      "cell_type": "code",
      "source": [
        "#숫자형 특성의 요약정보를 보여준다.\n",
        "housing.############???????#############"
      ],
      "metadata": {
        "id": "8FSgt6VY0IYI"
      },
      "execution_count": null,
      "outputs": []
    },
    {
      "cell_type": "code",
      "source": [
        "%matplotlib inline\n",
        "import matplotlib.pyplot as plt\n",
        "housing.hist(bins=50, figsize=(20,15))\n",
        "plt.show()"
      ],
      "metadata": {
        "id": "6l3n0TNR0JzK"
      },
      "execution_count": null,
      "outputs": []
    },
    {
      "cell_type": "markdown",
      "source": [
        "## 테스트 세트 만들기\n",
        "\n",
        "- 테스트 세트를 생성하는 일은 무작위로 어떤 샘플을 선택해서 데이터 셋의 20%정도를 떼어놓으면 된다. 그러나 코드를 계속 돌릴때마다 다른 테스트 세트가 생성되기 때문에 처음 데이터셋을 저장하고 다음 실행에서도 이를 불러들이는 것이 좋음. \n",
        "\n",
        "->해결책: 샘플의 식별자(index)를 사용하여 테스트 세르로 보낼지 말지 정하는 것여러번 반복해서 실행되면서 데이터셋이 갱신되더라도 테스트 세트가 동일하게 유지된다. 새로운 테스트 세트는 새 샘플의 20%를 가지게 되지만 이전에 훈련세트에 있던 샘플은 포함시키지 않음.\n",
        "\n",
        "- 사이킷런은 데이터셋을 여러 서브셋으로 나누는 다양한 방법을 제공: 가장 간단한 함수는 train_test split\n",
        "\n",
        "* * 난수 초깃값을 지정할 수 있는 random state 매개변수가 있음.\n",
        "\n",
        "* * 행의 개수가 같은 여러 개의 데이터셋을 넘겨서 같은 인텍스를 기반으로 나눌 수 있습니다."
      ],
      "metadata": {
        "id": "P0bHjmOC1G_z"
      }
    },
    {
      "cell_type": "code",
      "source": [
        "from sklearn.model_selection import train_test_split\n",
        "train_set, test_set = train_test_split(housing, test_size=##########?????############, random_state=42)"
      ],
      "metadata": {
        "id": "t7bE0_my1Gs5"
      },
      "execution_count": null,
      "outputs": []
    },
    {
      "cell_type": "markdown",
      "source": [
        "전문가가 중간 소득이 중간 주택 가격을 예측하는 데 매우 중요하다고 이야기해주었다고 가정 \n",
        "\n",
        "->테스트 세트가 전체 데이터셋에 있는여러 소득 카테고리를잘 대표해야함. 중간소득이 연속적인 숫자형 특성이므로 소득에 한카테고리 특성을 만들어야합니다. \n",
        "\n",
        "\n",
        "중간 소득 대부분은 1.5 \n",
        "에서 6(즉 $15,000~$60,000) 사이에 모여 있지만 일부는 $60,000를 넘기도 합니다. 계 \n",
        "층별로 데이터셋에 충분한 샘플 수가 있어야 합니다. 그렇지 않으면 계층의 중요도를 추정하는 데 편향이 발생합니다.\n",
        "\n",
        "-> 너무 많은 층으로 나누면 안 된다는 뜻이고 각 계층이 충분히 커야 한다는 것\n",
        "\n",
        "다음 코드는 pd.cut() 함수를 사용해 카테고리 5개를 가진 소득 카테고리 특성을 만듭니다.(1에서 5까지 레이블을 가집니다). 카테고리 1은 0에서 1.5 까지 범위 (즉 $15,000 이하이고 카태고리 2는 1.5 에서 3까지 범위가 되는 식."
      ],
      "metadata": {
        "id": "UTLjvBYu54bz"
      }
    },
    {
      "cell_type": "code",
      "source": [
        "housing[\"median_income\"].hist()"
      ],
      "metadata": {
        "id": "WUDOoVMG52a-"
      },
      "execution_count": null,
      "outputs": []
    },
    {
      "cell_type": "code",
      "source": [
        "housing[\"income_cat\"] = pd.cut(housing[\"median_income\"],\n",
        "                               bins=[0., 1.5, 3.0, 4.5, 6., np.inf],\n",
        "                               labels=[1, 2, 3, 4, 5])"
      ],
      "metadata": {
        "id": "rBWK9rbsDJU9"
      },
      "execution_count": null,
      "outputs": []
    },
    {
      "cell_type": "code",
      "source": [
        "housing[\"income_cat\"].hist()"
      ],
      "metadata": {
        "id": "idPahKQODPVc"
      },
      "execution_count": null,
      "outputs": []
    },
    {
      "cell_type": "code",
      "source": [
        "#소득카테고리를 기반으로 계층 샘플링을 할 준비완료\n",
        "from sklearn.model_selection import StratifiedShuffleSplit\n",
        "\n",
        "split = StratifiedShuffleSplit(n_splits=1, test_size=0.2, random_state=42)\n",
        "for train_index, test_index in split.split(housing, housing[\"income_cat\"]):\n",
        "    strat_train_set = housing.loc[train_index]\n",
        "    strat_test_set = housing.loc[test_index]"
      ],
      "metadata": {
        "id": "6yqg_dvbDkQR"
      },
      "execution_count": null,
      "outputs": []
    },
    {
      "cell_type": "code",
      "source": [
        "#테스트세트에서 소득카테고리의 비율\n",
        "strat_test_set[\"income_cat\"].value_counts() / len(strat_test_set)"
      ],
      "metadata": {
        "id": "lCrNIlQ4Dz_v"
      },
      "execution_count": null,
      "outputs": []
    },
    {
      "cell_type": "code",
      "source": [
        "# 전체 데이터셋의 소득카테고리 비율\n",
        "housing[\"income_cat\"].value_counts() / len(housing)\n",
        "#비율이 비슷하다는 것을 확인하는 것!"
      ],
      "metadata": {
        "id": "6SjVAnl3D1YG"
      },
      "execution_count": null,
      "outputs": []
    },
    {
      "cell_type": "code",
      "source": [
        "#데이터 원래대로 되돌리기\n",
        "for set_ in (strat_train_set, strat_test_set):\n",
        "    set_.drop(\"income_cat\", axis=1, inplace=True)"
      ],
      "metadata": {
        "id": "WaxrSVwfEYRN"
      },
      "execution_count": null,
      "outputs": []
    },
    {
      "cell_type": "markdown",
      "source": [
        "## 데이터시각화\n",
        "\n",
        "- - 복사본을 만들어사용"
      ],
      "metadata": {
        "id": "JMPf9eQ4E7jj"
      }
    },
    {
      "cell_type": "code",
      "source": [
        "housing = strat_train_set.copy()"
      ],
      "metadata": {
        "id": "xt-VPaKiE62d"
      },
      "execution_count": null,
      "outputs": []
    },
    {
      "cell_type": "code",
      "source": [
        "#alpha옵션: 데이터포인트가 밀집된 영역\n",
        "#s: 원의 반지름-구역의 인구\n",
        "#c: 색상은 가격\n",
        "housing.plot(kind=\"scatter\", x=\"longitude\", y=\"latitude\", alpha=0.4,\n",
        "             s=housing[\"population\"]/100, label=\"population\", figsize=(10,7),\n",
        "             c=\"median_house_value\", cmap=plt.get_cmap(\"jet\"), colorbar=True,\n",
        "             sharex=False)\n",
        "plt.legend()\n",
        "# 빨간색은 높은 가격, 파란색은 낮은 가격, 큰원은 인구가 밀집된 가격"
      ],
      "metadata": {
        "id": "a8KbjHqBFQaZ"
      },
      "execution_count": null,
      "outputs": []
    },
    {
      "cell_type": "markdown",
      "source": [
        "## 상관관계 조사"
      ],
      "metadata": {
        "id": "y1SUYQHOGVcB"
      }
    },
    {
      "cell_type": "code",
      "source": [
        "from pandas.plotting import scatter_matrix\n",
        "\n",
        "attributes = [\"median_house_value\", \"median_income\", \"total_rooms\",\n",
        "              \"housing_median_age\"]\n",
        "scatter_matrix(housing[attributes], figsize=(12, 8))\n"
      ],
      "metadata": {
        "id": "cYHVko69GULU"
      },
      "execution_count": null,
      "outputs": []
    },
    {
      "cell_type": "markdown",
      "source": [
        "## 새로운 특성 만들어보기"
      ],
      "metadata": {
        "id": "hW_NbhjgHFau"
      }
    },
    {
      "cell_type": "code",
      "source": [
        "housing[\"rooms_per_household\"] = housing[\"total_rooms\"]/housing[\"households\"]\n",
        "housing[\"bedrooms_per_room\"] = housing[\"total_bedrooms\"]/housing[\"total_rooms\"]\n",
        "housing[\"population_per_household\"]=housing[\"population\"]/housing[\"households\"]"
      ],
      "metadata": {
        "id": "mG8SQ9EWHHJw"
      },
      "execution_count": null,
      "outputs": []
    },
    {
      "cell_type": "markdown",
      "source": [
        "## 데이터준비(설명X)"
      ],
      "metadata": {
        "id": "Lw1k6lRPRRPX"
      }
    },
    {
      "cell_type": "code",
      "source": [
        "housing = strat_train_set.drop(\"median_house_value\", axis=1) # 훈련 세트를 위해 레이블 삭제\n",
        "housing_labels = strat_train_set[\"median_house_value\"].copy()"
      ],
      "metadata": {
        "id": "3ucQjt-3Q9mg"
      },
      "execution_count": null,
      "outputs": []
    },
    {
      "cell_type": "code",
      "source": [
        "sample_incomplete_rows = housing[housing.isnull().any(axis=1)].head()\n",
        "sample_incomplete_rows"
      ],
      "metadata": {
        "id": "ynYO1-uKVpmZ"
      },
      "execution_count": null,
      "outputs": []
    },
    {
      "cell_type": "code",
      "source": [
        "sample_incomplete_rows.dropna(subset=[\"total_bedrooms\"])  "
      ],
      "metadata": {
        "id": "jClNgysMVuPP"
      },
      "execution_count": null,
      "outputs": []
    },
    {
      "cell_type": "code",
      "source": [
        "sample_incomplete_rows"
      ],
      "metadata": {
        "id": "jvePhq-ZVxzs"
      },
      "execution_count": null,
      "outputs": []
    },
    {
      "cell_type": "code",
      "source": [
        "from sklearn.impute import SimpleImputer\n",
        "imputer = SimpleImputer(strategy=\"median\")"
      ],
      "metadata": {
        "id": "5pcFN2FDRX3o"
      },
      "execution_count": null,
      "outputs": []
    },
    {
      "cell_type": "code",
      "source": [
        "housing_num = housing.drop(\"ocean_proximity\", axis=1)"
      ],
      "metadata": {
        "id": "kMBz1MAcRyGA"
      },
      "execution_count": null,
      "outputs": []
    },
    {
      "cell_type": "code",
      "source": [
        "imputer.fit(housing_num)"
      ],
      "metadata": {
        "id": "0kqPdO7xWATm"
      },
      "execution_count": null,
      "outputs": []
    },
    {
      "cell_type": "code",
      "source": [
        "housing_num.median().values"
      ],
      "metadata": {
        "id": "XXJa4Q1dWEeG"
      },
      "execution_count": null,
      "outputs": []
    },
    {
      "cell_type": "code",
      "source": [
        "X = imputer.transform(housing_num)"
      ],
      "metadata": {
        "id": "_fcZxoiIWGzH"
      },
      "execution_count": null,
      "outputs": []
    },
    {
      "cell_type": "code",
      "source": [
        "housing_tr = pd.DataFrame(X, columns=housing_num.columns,\n",
        "                          index=housing_num.index)"
      ],
      "metadata": {
        "id": "8IbilZrMWIiy"
      },
      "execution_count": null,
      "outputs": []
    },
    {
      "cell_type": "code",
      "source": [
        "housing_tr.loc[sample_incomplete_rows.index.values]"
      ],
      "metadata": {
        "id": "RDKiVxBpWKhU"
      },
      "execution_count": null,
      "outputs": []
    },
    {
      "cell_type": "code",
      "source": [
        "imputer.strategy"
      ],
      "metadata": {
        "id": "sWHS1kwkWMml"
      },
      "execution_count": null,
      "outputs": []
    },
    {
      "cell_type": "markdown",
      "source": [
        "## 텍스트와 범주형 특성 다루기"
      ],
      "metadata": {
        "id": "dta4ONpKIwJI"
      }
    },
    {
      "cell_type": "code",
      "source": [
        "housing_cat = housing[[\"ocean_proximity\"]]\n",
        "housing_cat.head(10)"
      ],
      "metadata": {
        "id": "T7j49sptIzuz"
      },
      "execution_count": null,
      "outputs": []
    },
    {
      "cell_type": "code",
      "source": [
        "#대부분의 머신러닝 알고리즘은 숫자를 다루므로 텍스트를 숫자로 변환\n",
        "from sklearn.preprocessing import OrdinalEncoder\n",
        "\n",
        "ordinal_encoder = OrdinalEncoder()\n",
        "housing_cat_encoded = ordinal_encoder.fit_transform(housing_cat)\n",
        "housing_cat_encoded[:10]"
      ],
      "metadata": {
        "id": "w4OYfgo8KWc5"
      },
      "execution_count": null,
      "outputs": []
    },
    {
      "cell_type": "code",
      "source": [
        "#카테고리로 만들기\n",
        "ordinal_encoder.categories_"
      ],
      "metadata": {
        "id": "t1eDob0GKvoe"
      },
      "execution_count": null,
      "outputs": []
    },
    {
      "cell_type": "code",
      "source": [
        "#원핫인코딩으로 변환\n",
        "from sklearn.preprocessing import OneHotEncoder\n",
        "\n",
        "cat_encoder = ##############???????????#################\n",
        "housing_cat_1hot = cat_encoder.fit_transform(housing_cat)\n",
        "housing_cat_1hot "
      ],
      "metadata": {
        "id": "FO79CDQ0K2Ax"
      },
      "execution_count": null,
      "outputs": []
    },
    {
      "cell_type": "code",
      "source": [
        "#넘파이 배열로 변환\n",
        "housing_cat_1hot.toarray()"
      ],
      "metadata": {
        "id": "nNUO1A38LkvX"
      },
      "execution_count": null,
      "outputs": []
    },
    {
      "cell_type": "code",
      "source": [
        "cat_encoder.categories_"
      ],
      "metadata": {
        "id": "3rxtLvnHLlLj"
      },
      "execution_count": null,
      "outputs": []
    },
    {
      "cell_type": "markdown",
      "source": [
        "## 변환 파이프라인(설명X)"
      ],
      "metadata": {
        "id": "ZwDEpZ3BMc-n"
      }
    },
    {
      "cell_type": "code",
      "source": [
        "from sklearn.base import BaseEstimator, TransformerMixin\n",
        "\n",
        "# 열 인덱스\n",
        "rooms_ix, bedrooms_ix, population_ix, households_ix = 3, 4, 5, 6\n",
        "\n",
        "class CombinedAttributesAdder(BaseEstimator, TransformerMixin):\n",
        "    def __init__(self, add_bedrooms_per_room=True): # *args 또는 **kargs 없음\n",
        "        self.add_bedrooms_per_room = add_bedrooms_per_room\n",
        "    def fit(self, X, y=None):\n",
        "        return self  # 아무것도 하지 않습니다\n",
        "    def transform(self, X):\n",
        "        rooms_per_household = X[:, rooms_ix] / X[:, households_ix]\n",
        "        population_per_household = X[:, population_ix] / X[:, households_ix]\n",
        "        if self.add_bedrooms_per_room:\n",
        "            bedrooms_per_room = X[:, bedrooms_ix] / X[:, rooms_ix]\n",
        "            return np.c_[X, rooms_per_household, population_per_household,\n",
        "                         bedrooms_per_room]\n",
        "        else:\n",
        "            return np.c_[X, rooms_per_household, population_per_household]\n",
        "\n",
        "attr_adder = CombinedAttributesAdder(add_bedrooms_per_room=False)\n",
        "housing_extra_attribs = attr_adder.transform(housing.to_numpy())"
      ],
      "metadata": {
        "id": "gFAU54-_Wl9B"
      },
      "execution_count": null,
      "outputs": []
    },
    {
      "cell_type": "code",
      "source": [
        "col_names = \"total_rooms\", \"total_bedrooms\", \"population\", \"households\"\n",
        "rooms_ix, bedrooms_ix, population_ix, households_ix = [\n",
        "    housing.columns.get_loc(c) for c in col_names] # 열 인덱스 구하기"
      ],
      "metadata": {
        "id": "-Ut8ggT9Wntb"
      },
      "execution_count": null,
      "outputs": []
    },
    {
      "cell_type": "code",
      "source": [
        "housing_extra_attribs = pd.DataFrame(\n",
        "    housing_extra_attribs,\n",
        "    columns=list(housing.columns)+[\"rooms_per_household\", \"population_per_household\"],\n",
        "    index=housing.index)\n",
        "housing_extra_attribs.head()"
      ],
      "metadata": {
        "id": "YnCLdk5EWqvP"
      },
      "execution_count": null,
      "outputs": []
    },
    {
      "cell_type": "code",
      "source": [
        "from sklearn.pipeline import Pipeline\n",
        "from sklearn.preprocessing import StandardScaler\n",
        "\n",
        "num_pipeline = Pipeline([\n",
        "        ('imputer', SimpleImputer(strategy=\"median\")),\n",
        "        ('attribs_adder', CombinedAttributesAdder()),\n",
        "        ('std_scaler', StandardScaler()),\n",
        "    ])\n",
        "\n",
        "housing_num_tr = num_pipeline.fit_transform(housing_num)"
      ],
      "metadata": {
        "id": "kbJ0c0i9WsgL"
      },
      "execution_count": null,
      "outputs": []
    },
    {
      "cell_type": "code",
      "source": [
        "from sklearn.compose import ColumnTransformer\n",
        "\n",
        "num_attribs = list(housing_num)\n",
        "cat_attribs = [\"ocean_proximity\"]\n",
        "\n",
        "full_pipeline = ColumnTransformer([\n",
        "        (\"num\", num_pipeline, num_attribs),\n",
        "        (\"cat\", OneHotEncoder(), cat_attribs),\n",
        "    ])\n",
        "\n",
        "housing_prepared = full_pipeline.fit_transform(housing)"
      ],
      "metadata": {
        "id": "1fiNJOQkWuzb"
      },
      "execution_count": null,
      "outputs": []
    },
    {
      "cell_type": "markdown",
      "source": [
        "## 모델선택 및 훈련"
      ],
      "metadata": {
        "id": "xC_bzsLdP4Yq"
      }
    },
    {
      "cell_type": "code",
      "source": [
        "#훈련시키기\n",
        "from sklearn.linear_model import LinearRegression\n",
        "\n",
        "lin_reg = ############???????????###############\n",
        "lin_reg.fit(housing_prepared, housing_labels)"
      ],
      "metadata": {
        "id": "ITBk3ZcTP7S8"
      },
      "execution_count": null,
      "outputs": []
    },
    {
      "cell_type": "code",
      "source": [
        "# 훈련 샘플 몇 개를 사용해 전체 파이프라인을 적용해 보겠습니다\n",
        "some_data = housing.iloc[:5]\n",
        "some_labels = housing_labels.iloc[:5]\n",
        "some_data_prepared = full_pipeline.transform(some_data)\n",
        "\n",
        "print(\"예측:\", lin_reg.predict(some_data_prepared))"
      ],
      "metadata": {
        "id": "qckDpGSwW6q9"
      },
      "execution_count": null,
      "outputs": []
    },
    {
      "cell_type": "code",
      "source": [
        "#실제값과 비교\n",
        "print(\"레이블:\", list(some_labels))"
      ],
      "metadata": {
        "id": "qwXPnUbrXF2s"
      },
      "execution_count": null,
      "outputs": []
    },
    {
      "cell_type": "code",
      "source": [
        "#RMSE점수 확인-예측오차가 68628달러\n",
        "from sklearn.metrics import mean_squared_error\n",
        "\n",
        "housing_predictions = lin_reg.predict(housing_prepared)\n",
        "lin_mse = mean_squared_error(housing_labels, housing_predictions)\n",
        "lin_rmse = np.sqrt(lin_mse)\n",
        "lin_rmse\n",
        "#RSME란 평균제곱오차의 제곱근\n",
        "#좋은 점수는 아니다."
      ],
      "metadata": {
        "id": "BdF4QxxyXcEu"
      },
      "execution_count": null,
      "outputs": []
    },
    {
      "cell_type": "markdown",
      "source": [
        "## 마지막단계: 검증하기\n",
        "* 검증방법: 여러 다른 모델들로 훈련시켜서 성능 확인하기\n",
        "* 결정 트리 모델, 랜덤포레스트모델 등\n"
      ],
      "metadata": {
        "id": "Vs1aN6FUaZUr"
      }
    }
  ]
}