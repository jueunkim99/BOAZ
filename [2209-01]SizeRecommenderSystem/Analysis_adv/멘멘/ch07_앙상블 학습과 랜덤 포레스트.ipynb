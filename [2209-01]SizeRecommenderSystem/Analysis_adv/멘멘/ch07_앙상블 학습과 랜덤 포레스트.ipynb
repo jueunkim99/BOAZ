{
 "cells": [
  {
   "cell_type": "markdown",
   "metadata": {},
   "source": [
    "#### 앙상블\n",
    "- 여러 개의 분류기를 생성하고 각 예측들을 결합함으로써 보다 정확한 예측을 도출하는 기법\n",
    "\n",
    "#### 랜덤포레스트\n",
    "- 훈련 세트로부터 무작위로 각기 다른 서브셋을 만들어 일련의 결정 트리 분류기를 훈련시킴.\n",
    "- 모든 개별 트리의 예측을 구하고, 가장 많은 선택을 받은 클래스를 예측으로 삼음.\n",
    "- 이러한 결정 트리의 앙상블을 랜덤 포레스트라고 함."
   ]
  },
  {
   "cell_type": "markdown",
   "metadata": {},
   "source": [
    "# 7.1 투표 기반 분류기\n",
    "\n",
    "다음은 여러 분류기를 조합하여 사이킷런의 투표 기반 분류기(VotingClassifier)를 만들고 훈련시키는 코드입니다. (p. 248)"
   ]
  },
  {
   "cell_type": "code",
   "execution_count": 1,
   "metadata": {},
   "outputs": [],
   "source": [
    "from sklearn.ensemble import RandomForestClassifier\n",
    "from sklearn.ensemble import VotingClassifier\n",
    "from sklearn.linear_model import LogisticRegression\n",
    "from sklearn.svm import SVC"
   ]
  },
  {
   "cell_type": "code",
   "execution_count": 2,
   "metadata": {},
   "outputs": [],
   "source": [
    "# moons 데이터셋을 불러와줍니다.\n",
    "from sklearn.model_selection import train_test_split\n",
    "from sklearn.datasets import make_moons\n",
    "\n",
    "X, y = make_moons(n_samples=500, noise=0.30, random_state=42)\n",
    "X_train, X_test, y_train, y_test = train_test_split(X, y, random_state=42)"
   ]
  },
  {
   "cell_type": "markdown",
   "metadata": {},
   "source": [
    "#### voting classifier 클래스 이용\n",
    "* 매개변수:\n",
    "    * ```estimators```: 앙상블할 모델들을 설정. ('분류기 이름', 분류기)의 튜플을 리스트로 묶어서 전달\n",
    "    * voting: voting방식 (default: ```voting='hard'``` / 지정: ```voting='soft'```)"
   ]
  },
  {
   "cell_type": "markdown",
   "metadata": {},
   "source": [
    "### 1) 직접 투표_Hard Voting"
   ]
  },
  {
   "cell_type": "code",
   "execution_count": 3,
   "metadata": {
    "scrolled": true
   },
   "outputs": [
    {
     "data": {
      "text/plain": [
       "VotingClassifier(estimators=[('lr', LogisticRegression(random_state=42)),\n",
       "                             ('rf', RandomForestClassifier(random_state=42)),\n",
       "                             ('svc', SVC(random_state=42))])"
      ]
     },
     "execution_count": 3,
     "metadata": {},
     "output_type": "execute_result"
    }
   ],
   "source": [
    "log_clf = LogisticRegression(random_state=42)\n",
    "rnd_clf = RandomForestClassifier(random_state=42)\n",
    "svm_clf = SVC(random_state=42)\n",
    "\n",
    "voting_clf = VotingClassifier(\n",
    "    estimators =[('lr', log_clf), ('rf', rnd_clf), ('svc', svm_clf)],\n",
    "    voting='hard')\n",
    "voting_clf.fit(X_train, y_train)"
   ]
  },
  {
   "cell_type": "code",
   "execution_count": 4,
   "metadata": {
    "scrolled": false
   },
   "outputs": [
    {
     "name": "stdout",
     "output_type": "stream",
     "text": [
      "LogisticRegression 0.864\n",
      "RandomForestClassifier 0.896\n",
      "SVC 0.896\n",
      "VotingClassifier 0.912\n"
     ]
    }
   ],
   "source": [
    "# 각 분류기의 테스트셋 정확도를 확인.\n",
    "from sklearn.metrics import accuracy_score\n",
    "for clf in (log_clf, rnd_clf, svm_clf, voting_clf):\n",
    "    clf.fit(X_train, y_train)\n",
    "    y_pred = clf.predict(X_test)\n",
    "    print(clf.__class__.__name__, accuracy_score(y_test, y_pred))      # accuracy_score(실제라벨 결과, 예측라벨 결과)"
   ]
  },
  {
   "cell_type": "markdown",
   "metadata": {},
   "source": [
    "'투표 기반 분류기가 다른 개별 분류기보다 성능이 조금 더 높습니다'"
   ]
  },
  {
   "cell_type": "markdown",
   "metadata": {},
   "source": [
    "### 2) 간접 투표_Soft Voting\n",
    "- 모든 분류기가 클래스의 확률을 예측할 수 있을 때, 개별 분류기의 예측을 평균 내어 확률이 가장 높은 클래스를 예측하는 방식\n",
    "- 확률이 높은 투표에 비중을 더 두기 때문에 직접 투표 방식보다 성능이 높음\n",
    "- ```voting='hard'```→```voting='soft'```\n",
    "- SVM은 클래스 확률을 제공하지 않으므로 ```probability``` 매개변수를 True로 지정해야 함"
   ]
  },
  {
   "cell_type": "code",
   "execution_count": 5,
   "metadata": {},
   "outputs": [
    {
     "data": {
      "text/plain": [
       "VotingClassifier(estimators=[('lr', LogisticRegression(random_state=42)),\n",
       "                             ('rf', RandomForestClassifier(random_state=42)),\n",
       "                             ('svc', SVC(probability=True, random_state=42))],\n",
       "                 voting='soft')"
      ]
     },
     "execution_count": 5,
     "metadata": {},
     "output_type": "execute_result"
    }
   ],
   "source": [
    "log_clf = LogisticRegression(random_state=42)\n",
    "rnd_clf = RandomForestClassifier(random_state=42)\n",
    "svm_clf = SVC(probability=True, random_state=42)    #SVC(probability=True)\n",
    "\n",
    "voting_clf = VotingClassifier(\n",
    "    estimators =[('lr', log_clf), ('rf', rnd_clf), ('svc', svm_clf)],\n",
    "    voting='soft')                                   #voting='soft'\n",
    "voting_clf.fit(X_train, y_train)"
   ]
  },
  {
   "cell_type": "code",
   "execution_count": 6,
   "metadata": {},
   "outputs": [
    {
     "name": "stdout",
     "output_type": "stream",
     "text": [
      "LogisticRegression 0.864\n",
      "RandomForestClassifier 0.896\n",
      "SVC 0.896\n",
      "VotingClassifier 0.92\n"
     ]
    }
   ],
   "source": [
    "# 각 분류기의 테스트셋 정확도를 확인.\n",
    "from sklearn.metrics import accuracy_score\n",
    "for clf in (log_clf, rnd_clf, svm_clf, voting_clf):\n",
    "    clf.fit(X_train, y_train)\n",
    "    y_pred = clf.predict(X_test)\n",
    "    print(clf.__class__.__name__, accuracy_score(y_test, y_pred))      # accuracy_score(실제라벨 결과, 예측라벨 결과)"
   ]
  },
  {
   "cell_type": "markdown",
   "metadata": {},
   "source": [
    "## 7.2.1 사이킷런의 배깅과 페이스팅\n",
    "다음은 결정 트리 분류기 500개의 앙상블을 훈련시키는 코드입니다. 각 분류기는 훈련 세트에서 중복을 허용하여 무작위로 선택된 100개의 샘플로 훈련됩니다(이는 배깅의 경우고, 대신 페이스팅을 사용하려면 bootstrap=False로 지정하면 됩니다). n_jobs 매개변수는 사이킷런이 훈련과 예측에 사용할 CPU 코어 수를 지정합니다(-1로 지정하면 가용한 모든 코어를 사용합니다). (p. 251)\n",
    "\n",
    "#### Bagging을 이용한 앙상블 학습"
   ]
  },
  {
   "cell_type": "code",
   "execution_count": 7,
   "metadata": {},
   "outputs": [
    {
     "name": "stdout",
     "output_type": "stream",
     "text": [
      "Accuracy = 0.904\n"
     ]
    }
   ],
   "source": [
    "from sklearn.ensemble import BaggingClassifier\n",
    "from sklearn.tree import DecisionTreeClassifier\n",
    "\n",
    "bag_clf = BaggingClassifier(\n",
    "    DecisionTreeClassifier(), n_estimators=500,\n",
    "    max_samples=100, bootstrap=True, random_state=42)    #bootstrap=False로 지정하면 배깅 대신 페이스팅을 사용할 수 있음\n",
    "bag_clf.fit(X_train, y_train)\n",
    "y_pred = bag_clf.predict(X_test)\n",
    "\n",
    "print('Accuracy =', accuracy_score(y_test, y_pred))"
   ]
  },
  {
   "cell_type": "markdown",
   "metadata": {},
   "source": [
    "#### 단일 결정 트리"
   ]
  },
  {
   "cell_type": "code",
   "execution_count": 8,
   "metadata": {
    "scrolled": true
   },
   "outputs": [
    {
     "name": "stdout",
     "output_type": "stream",
     "text": [
      "Accuracy = 0.856\n"
     ]
    }
   ],
   "source": [
    "from sklearn.tree import DecisionTreeClassifier\n",
    "\n",
    "tree_clf = DecisionTreeClassifier(random_state=42)\n",
    "tree_clf.fit(X_train, y_train)\n",
    "y_pred_tree = tree_clf.predict(X_test)\n",
    "print('Accuracy =', accuracy_score(y_test, y_pred_tree))"
   ]
  },
  {
   "cell_type": "markdown",
   "metadata": {},
   "source": [
    "#### 단일 결정 트리(왼쪽)와 500개 트리로 만든 배깅 앙상블(오른쪽) 비교"
   ]
  },
  {
   "cell_type": "code",
   "execution_count": 9,
   "metadata": {},
   "outputs": [],
   "source": [
    "from matplotlib.colors import ListedColormap\n",
    "import matplotlib.pyplot as plt\n",
    "\n",
    "def plot_decision_boundary(clf, X, y, axes=[-1.5, 2.5, -1, 1.5], alpha=0.5, contour=True):\n",
    "    x1s = np.linspace(axes[0], axes[1], 100)\n",
    "    x2s = np.linspace(axes[2], axes[3], 100)\n",
    "    x1, x2 = np.meshgrid(x1s, x2s)\n",
    "    X_new = np.c_[x1.ravel(), x2.ravel()]\n",
    "    y_pred = clf.predict(X_new).reshape(x1.shape)\n",
    "    custom_cmap = ListedColormap(['#fafab0','#9898ff','#a0faa0'])\n",
    "    plt.contourf(x1, x2, y_pred, alpha=0.3, cmap=custom_cmap)\n",
    "    if contour:\n",
    "        custom_cmap2 = ListedColormap(['#7d7d58','#4c4c7f','#507d50'])\n",
    "        plt.contour(x1, x2, y_pred, cmap=custom_cmap2, alpha=0.8)\n",
    "    plt.plot(X[:, 0][y==0], X[:, 1][y==0], \"yo\", alpha=alpha)\n",
    "    plt.plot(X[:, 0][y==1], X[:, 1][y==1], \"bs\", alpha=alpha)\n",
    "    plt.axis(axes)\n",
    "    plt.xlabel(r\"$x_1$\", fontsize=18)\n",
    "    plt.ylabel(r\"$x_2$\", fontsize=18, rotation=0)"
   ]
  },
  {
   "cell_type": "code",
   "execution_count": 10,
   "metadata": {
    "scrolled": true
   },
   "outputs": [
    {
     "data": {
      "image/png": "[encoded data removed]",
      "text/plain": [
       "<Figure size 792x288 with 2 Axes>"
      ]
     },
     "metadata": {
      "needs_background": "light"
     },
     "output_type": "display_data"
    }
   ],
   "source": [
    "import numpy as np\n",
    "import warnings\n",
    "warnings.filterwarnings(action='ignore')\n",
    "\n",
    "plt.figure(figsize=(11,4))\n",
    "plt.subplot(121)\n",
    "plot_decision_boundary(tree_clf, X, y)\n",
    "plt.title(\"Decision Tree\", fontsize=14)\n",
    "plt.subplot(122)\n",
    "plot_decision_boundary(bag_clf, X, y)\n",
    "plt.title(\"Decision Trees with Bagging\", fontsize=14)\n",
    "plt.show()"
   ]
  },
  {
   "cell_type": "markdown",
   "metadata": {},
   "source": [
    "♣ NOTE: BaggingClassifier는 기반이 되는 분류기가 결정 트리 분류기처럼 클래스 확률을 추정할 수 있으면(즉, predict_proba()함수가 있으면) 직접 투표 대신 자동으로 간접 투표 방식을 사용합니다."
   ]
  },
  {
   "cell_type": "markdown",
   "metadata": {},
   "source": [
    "- 각 분류기가 weak learner(약한 학습기)일지라도, 충분하게 많고 다양하다면 앙상블은 strong learner(강한 학습기)가 될 수 있다.\n",
    "- 근거: 큰 수의 법칙\n",
    "    - 시행의 크기를 충분히 늘리면 사건이 발생할 확률은 수학적 확률에 수렴한다는 이론."
   ]
  },
  {
   "cell_type": "markdown",
   "metadata": {},
   "source": [
    "Question. 배깅과 페이스팅 중 어느 것을 쓰는 것이 좋을까?"
   ]
  },
  {
   "cell_type": "markdown",
   "metadata": {},
   "source": [
    "## 7.2.2 oob 평가\n",
    "사이킷런에서 BaggingClassifier를 만들 때 ```oob_socre=True```로 지정하면 훈련이 끝난 후 자동으로 oob 평가를 수행합니다. 다음 코드는 이 과정을 보여줍니다. 평가 점수 결과는 ```oob_score_``` 변수에 저장되어 있습니다. (p.252)"
   ]
  },
  {
   "cell_type": "markdown",
   "metadata": {},
   "source": [
    "#### oob_out of bag 샘플:\n",
    "- 배깅의 '중복 허용'하는 특성에서 비롯됨.\n",
    "- BaggingClassifier에서, 평균적으로 각 예측기에 훈련 샘플의 63% 정도만 샘플링됨. \n",
    "- 선택되지 않은 훈련 샘플의 나머지 37%를 oob 샘플이라고 부름(예측기마다 남겨진 37%는 모두 다름).\n",
    "- 별도의 검증 세트를 사용하지 않고 예측기의 performance를 확인할 수 있음."
   ]
  },
  {
   "cell_type": "code",
   "execution_count": 11,
   "metadata": {
    "scrolled": true
   },
   "outputs": [
    {
     "data": {
      "text/plain": [
       "0.896"
      ]
     },
     "execution_count": 11,
     "metadata": {},
     "output_type": "execute_result"
    }
   ],
   "source": [
    "# oob 평가 수행\n",
    "bag_clf = BaggingClassifier(\n",
    "    DecisionTreeClassifier(), n_estimators=500,\n",
    "    bootstrap=True, oob_score=True, random_state=42)      #oob_score=True\n",
    "bag_clf.fit(X_train, y_train)\n",
    "bag_clf.oob_score_"
   ]
  },
  {
   "cell_type": "code",
   "execution_count": 12,
   "metadata": {},
   "outputs": [
    {
     "data": {
      "text/plain": [
       "0.92"
      ]
     },
     "execution_count": 12,
     "metadata": {},
     "output_type": "execute_result"
    }
   ],
   "source": [
    "# 테스트셋 정확도\n",
    "from sklearn.metrics import accuracy_score\n",
    "y_pred = bag_clf.predict(X_test)\n",
    "accuracy_score(y_test, y_pred)"
   ]
  },
  {
   "cell_type": "markdown",
   "metadata": {},
   "source": [
    "oob 샘플에 대한 결정 함수(각 훈련 샘플의 클래스 확률을 반환함)의 값도 ```oob_decision_function_``` 변수에서 확인할 수 있습니다."
   ]
  },
  {
   "cell_type": "code",
   "execution_count": 13,
   "metadata": {
    "scrolled": true
   },
   "outputs": [
    {
     "data": {
      "text/plain": [
       "array([[0.32352941, 0.67647059],\n",
       "       [0.3375    , 0.6625    ],\n",
       "       [1.        , 0.        ],\n",
       "       [0.        , 1.        ],\n",
       "       [0.        , 1.        ],\n",
       "       [0.06145251, 0.93854749],\n",
       "       [0.35465116, 0.64534884],\n",
       "       [0.01142857, 0.98857143],\n",
       "       [0.98930481, 0.01069519],\n",
       "       [0.97927461, 0.02072539],\n",
       "       [0.75586854, 0.24413146],\n",
       "       [0.0049505 , 0.9950495 ],\n",
       "       [0.75520833, 0.24479167],\n",
       "       [0.82122905, 0.17877095],\n",
       "       [0.98461538, 0.01538462],\n",
       "       [0.06315789, 0.93684211],\n",
       "       [0.00490196, 0.99509804],\n",
       "       [0.99004975, 0.00995025],\n",
       "       [0.92513369, 0.07486631],\n",
       "       [1.        , 0.        ],\n",
       "       [0.03409091, 0.96590909],\n",
       "       [0.35087719, 0.64912281],\n",
       "       [0.91111111, 0.08888889],\n",
       "       [1.        , 0.        ],\n",
       "       [0.96319018, 0.03680982],\n",
       "       [0.        , 1.        ],\n",
       "       [1.        , 0.        ],\n",
       "       [1.        , 0.        ],\n",
       "       [0.        , 1.        ],\n",
       "       [0.6635514 , 0.3364486 ],\n",
       "       [0.        , 1.        ],\n",
       "       [1.        , 0.        ],\n",
       "       [0.0049505 , 0.9950495 ],\n",
       "       [0.        , 1.        ],\n",
       "       [0.19680851, 0.80319149],\n",
       "       [1.        , 0.        ],\n",
       "       [0.00591716, 0.99408284],\n",
       "       [0.38509317, 0.61490683],\n",
       "       [0.        , 1.        ],\n",
       "       [1.        , 0.        ],\n",
       "       [0.22346369, 0.77653631],\n",
       "       [0.32777778, 0.67222222],\n",
       "       [1.        , 0.        ],\n",
       "       [1.        , 0.        ],\n",
       "       [0.        , 1.        ],\n",
       "       [1.        , 0.        ],\n",
       "       [1.        , 0.        ],\n",
       "       [0.02906977, 0.97093023],\n",
       "       [1.        , 0.        ],\n",
       "       [0.01183432, 0.98816568],\n",
       "       [0.97916667, 0.02083333],\n",
       "       [0.88829787, 0.11170213],\n",
       "       [0.94594595, 0.05405405],\n",
       "       [0.96132597, 0.03867403],\n",
       "       [0.        , 1.        ],\n",
       "       [0.05612245, 0.94387755],\n",
       "       [0.98026316, 0.01973684],\n",
       "       [0.        , 1.        ],\n",
       "       [0.        , 1.        ],\n",
       "       [0.01005025, 0.98994975],\n",
       "       [0.98857143, 0.01142857],\n",
       "       [0.80769231, 0.19230769],\n",
       "       [0.44751381, 0.55248619],\n",
       "       [1.        , 0.        ],\n",
       "       [0.        , 1.        ],\n",
       "       [0.71523179, 0.28476821],\n",
       "       [1.        , 0.        ],\n",
       "       [1.        , 0.        ],\n",
       "       [0.84745763, 0.15254237],\n",
       "       [1.        , 0.        ],\n",
       "       [0.61578947, 0.38421053],\n",
       "       [0.12777778, 0.87222222],\n",
       "       [0.63387978, 0.36612022],\n",
       "       [0.9132948 , 0.0867052 ],\n",
       "       [0.        , 1.        ],\n",
       "       [0.16129032, 0.83870968],\n",
       "       [0.90607735, 0.09392265],\n",
       "       [1.        , 0.        ],\n",
       "       [0.        , 1.        ],\n",
       "       [1.        , 0.        ],\n",
       "       [0.00540541, 0.99459459],\n",
       "       [0.06358382, 0.93641618],\n",
       "       [0.02312139, 0.97687861],\n",
       "       [0.34939759, 0.65060241],\n",
       "       [1.        , 0.        ],\n",
       "       [0.        , 1.        ],\n",
       "       [0.84090909, 0.15909091],\n",
       "       [0.        , 1.        ],\n",
       "       [0.        , 1.        ],\n",
       "       [0.        , 1.        ],\n",
       "       [0.22340426, 0.77659574],\n",
       "       [1.        , 0.        ],\n",
       "       [0.        , 1.        ],\n",
       "       [0.        , 1.        ],\n",
       "       [0.        , 1.        ],\n",
       "       [0.96335079, 0.03664921],\n",
       "       [0.80628272, 0.19371728],\n",
       "       [0.        , 1.        ],\n",
       "       [1.        , 0.        ],\n",
       "       [0.25274725, 0.74725275],\n",
       "       [0.58235294, 0.41764706],\n",
       "       [0.        , 1.        ],\n",
       "       [0.03723404, 0.96276596],\n",
       "       [0.50543478, 0.49456522],\n",
       "       [1.        , 0.        ],\n",
       "       [0.01704545, 0.98295455],\n",
       "       [0.99456522, 0.00543478],\n",
       "       [0.2259887 , 0.7740113 ],\n",
       "       [0.45810056, 0.54189944],\n",
       "       [1.        , 0.        ],\n",
       "       [0.01570681, 0.98429319],\n",
       "       [0.98901099, 0.01098901],\n",
       "       [0.25698324, 0.74301676],\n",
       "       [0.88304094, 0.11695906],\n",
       "       [1.        , 0.        ],\n",
       "       [1.        , 0.        ],\n",
       "       [0.        , 1.        ],\n",
       "       [0.        , 1.        ],\n",
       "       [0.78285714, 0.21714286],\n",
       "       [1.        , 0.        ],\n",
       "       [0.00578035, 0.99421965],\n",
       "       [1.        , 0.        ],\n",
       "       [1.        , 0.        ],\n",
       "       [1.        , 0.        ],\n",
       "       [0.98895028, 0.01104972],\n",
       "       [0.99447514, 0.00552486],\n",
       "       [0.        , 1.        ],\n",
       "       [0.96534653, 0.03465347],\n",
       "       [0.99497487, 0.00502513],\n",
       "       [0.01092896, 0.98907104],\n",
       "       [0.1686747 , 0.8313253 ],\n",
       "       [0.95408163, 0.04591837],\n",
       "       [0.31515152, 0.68484848],\n",
       "       [0.98924731, 0.01075269],\n",
       "       [0.        , 1.        ],\n",
       "       [0.        , 1.        ],\n",
       "       [0.71929825, 0.28070175],\n",
       "       [0.36206897, 0.63793103],\n",
       "       [0.4       , 0.6       ],\n",
       "       [0.85326087, 0.14673913],\n",
       "       [0.95918367, 0.04081633],\n",
       "       [0.06349206, 0.93650794],\n",
       "       [0.81313131, 0.18686869],\n",
       "       [0.        , 1.        ],\n",
       "       [0.        , 1.        ],\n",
       "       [0.03508772, 0.96491228],\n",
       "       [0.98342541, 0.01657459],\n",
       "       [1.        , 0.        ],\n",
       "       [1.        , 0.        ],\n",
       "       [0.0052356 , 0.9947644 ],\n",
       "       [0.        , 1.        ],\n",
       "       [0.01932367, 0.98067633],\n",
       "       [0.        , 1.        ],\n",
       "       [1.        , 0.        ],\n",
       "       [1.        , 0.        ],\n",
       "       [0.94827586, 0.05172414],\n",
       "       [1.        , 0.        ],\n",
       "       [1.        , 0.        ],\n",
       "       [1.        , 0.        ],\n",
       "       [0.        , 1.        ],\n",
       "       [0.38674033, 0.61325967],\n",
       "       [0.27717391, 0.72282609],\n",
       "       [0.01117318, 0.98882682],\n",
       "       [0.        , 1.        ],\n",
       "       [0.30208333, 0.69791667],\n",
       "       [1.        , 0.        ],\n",
       "       [0.99378882, 0.00621118],\n",
       "       [0.        , 1.        ],\n",
       "       [1.        , 0.        ],\n",
       "       [0.        , 1.        ],\n",
       "       [0.        , 1.        ],\n",
       "       [0.98295455, 0.01704545],\n",
       "       [0.        , 1.        ],\n",
       "       [0.        , 1.        ],\n",
       "       [1.        , 0.        ],\n",
       "       [0.00502513, 0.99497487],\n",
       "       [0.61271676, 0.38728324],\n",
       "       [0.91747573, 0.08252427],\n",
       "       [0.        , 1.        ],\n",
       "       [1.        , 0.        ],\n",
       "       [0.99516908, 0.00483092],\n",
       "       [1.        , 0.        ],\n",
       "       [0.        , 1.        ],\n",
       "       [0.        , 1.        ],\n",
       "       [1.        , 0.        ],\n",
       "       [0.06930693, 0.93069307],\n",
       "       [1.        , 0.        ],\n",
       "       [0.05405405, 0.94594595],\n",
       "       [0.        , 1.        ],\n",
       "       [1.        , 0.        ],\n",
       "       [0.        , 1.        ],\n",
       "       [0.04294479, 0.95705521],\n",
       "       [1.        , 0.        ],\n",
       "       [0.93229167, 0.06770833],\n",
       "       [0.73295455, 0.26704545],\n",
       "       [0.62424242, 0.37575758],\n",
       "       [0.        , 1.        ],\n",
       "       [0.12755102, 0.87244898],\n",
       "       [1.        , 0.        ],\n",
       "       [0.96341463, 0.03658537],\n",
       "       [0.96226415, 0.03773585],\n",
       "       [1.        , 0.        ],\n",
       "       [0.02272727, 0.97727273],\n",
       "       [0.        , 1.        ],\n",
       "       [0.40223464, 0.59776536],\n",
       "       [0.85082873, 0.14917127],\n",
       "       [0.        , 1.        ],\n",
       "       [0.        , 1.        ],\n",
       "       [0.99408284, 0.00591716],\n",
       "       [0.00520833, 0.99479167],\n",
       "       [0.00540541, 0.99459459],\n",
       "       [0.96111111, 0.03888889],\n",
       "       [0.        , 1.        ],\n",
       "       [0.30808081, 0.69191919],\n",
       "       [0.        , 1.        ],\n",
       "       [1.        , 0.        ],\n",
       "       [0.00595238, 0.99404762],\n",
       "       [0.        , 1.        ],\n",
       "       [0.96236559, 0.03763441],\n",
       "       [0.80246914, 0.19753086],\n",
       "       [0.995     , 0.005     ],\n",
       "       [0.00543478, 0.99456522],\n",
       "       [0.04411765, 0.95588235],\n",
       "       [1.        , 0.        ],\n",
       "       [0.02808989, 0.97191011],\n",
       "       [0.        , 1.        ],\n",
       "       [0.04864865, 0.95135135],\n",
       "       [1.        , 0.        ],\n",
       "       [0.82777778, 0.17222222],\n",
       "       [0.        , 1.        ],\n",
       "       [0.8988764 , 0.1011236 ],\n",
       "       [0.99450549, 0.00549451],\n",
       "       [0.18857143, 0.81142857],\n",
       "       [0.20994475, 0.79005525],\n",
       "       [1.        , 0.        ],\n",
       "       [0.        , 1.        ],\n",
       "       [0.00549451, 0.99450549],\n",
       "       [0.        , 1.        ],\n",
       "       [0.25789474, 0.74210526],\n",
       "       [0.95212766, 0.04787234],\n",
       "       [0.00507614, 0.99492386],\n",
       "       [1.        , 0.        ],\n",
       "       [1.        , 0.        ],\n",
       "       [0.        , 1.        ],\n",
       "       [0.42857143, 0.57142857],\n",
       "       [1.        , 0.        ],\n",
       "       [0.        , 1.        ],\n",
       "       [1.        , 0.        ],\n",
       "       [0.        , 1.        ],\n",
       "       [0.        , 1.        ],\n",
       "       [0.04188482, 0.95811518],\n",
       "       [0.10404624, 0.89595376],\n",
       "       [0.98469388, 0.01530612],\n",
       "       [0.02185792, 0.97814208],\n",
       "       [1.        , 0.        ],\n",
       "       [0.34042553, 0.65957447],\n",
       "       [0.12315271, 0.87684729],\n",
       "       [0.52717391, 0.47282609],\n",
       "       [0.65151515, 0.34848485],\n",
       "       [0.00558659, 0.99441341],\n",
       "       [1.        , 0.        ],\n",
       "       [0.        , 1.        ],\n",
       "       [0.        , 1.        ],\n",
       "       [0.63679245, 0.36320755],\n",
       "       [0.        , 1.        ],\n",
       "       [1.        , 0.        ],\n",
       "       [0.22680412, 0.77319588],\n",
       "       [0.82089552, 0.17910448],\n",
       "       [0.03012048, 0.96987952],\n",
       "       [1.        , 0.        ],\n",
       "       [0.86910995, 0.13089005],\n",
       "       [0.        , 1.        ],\n",
       "       [0.00518135, 0.99481865],\n",
       "       [0.09137056, 0.90862944],\n",
       "       [0.00598802, 0.99401198],\n",
       "       [0.        , 1.        ],\n",
       "       [1.        , 0.        ],\n",
       "       [0.94318182, 0.05681818],\n",
       "       [0.1627907 , 0.8372093 ],\n",
       "       [0.95897436, 0.04102564],\n",
       "       [0.01630435, 0.98369565],\n",
       "       [0.59562842, 0.40437158],\n",
       "       [0.06989247, 0.93010753],\n",
       "       [1.        , 0.        ],\n",
       "       [0.78723404, 0.21276596],\n",
       "       [0.        , 1.        ],\n",
       "       [1.        , 0.        ],\n",
       "       [0.93684211, 0.06315789],\n",
       "       [0.        , 1.        ],\n",
       "       [0.        , 1.        ],\n",
       "       [1.        , 0.        ],\n",
       "       [0.        , 1.        ],\n",
       "       [1.        , 0.        ],\n",
       "       [0.23036649, 0.76963351],\n",
       "       [0.99418605, 0.00581395],\n",
       "       [1.        , 0.        ],\n",
       "       [0.        , 1.        ],\n",
       "       [0.        , 1.        ],\n",
       "       [0.85955056, 0.14044944],\n",
       "       [0.        , 1.        ],\n",
       "       [1.        , 0.        ],\n",
       "       [0.79255319, 0.20744681],\n",
       "       [0.91847826, 0.08152174],\n",
       "       [1.        , 0.        ],\n",
       "       [0.68306011, 0.31693989],\n",
       "       [0.50802139, 0.49197861],\n",
       "       [0.        , 1.        ],\n",
       "       [0.87790698, 0.12209302],\n",
       "       [0.        , 1.        ],\n",
       "       [1.        , 0.        ],\n",
       "       [0.9010989 , 0.0989011 ],\n",
       "       [1.        , 0.        ],\n",
       "       [1.        , 0.        ],\n",
       "       [0.72139303, 0.27860697],\n",
       "       [0.09090909, 0.90909091],\n",
       "       [0.48170732, 0.51829268],\n",
       "       [0.25263158, 0.74736842],\n",
       "       [0.        , 1.        ],\n",
       "       [0.84782609, 0.15217391],\n",
       "       [0.81443299, 0.18556701],\n",
       "       [0.        , 1.        ],\n",
       "       [1.        , 0.        ],\n",
       "       [0.98930481, 0.01069519],\n",
       "       [1.        , 0.        ],\n",
       "       [0.        , 1.        ],\n",
       "       [0.03921569, 0.96078431],\n",
       "       [0.95959596, 0.04040404],\n",
       "       [0.95375723, 0.04624277],\n",
       "       [1.        , 0.        ],\n",
       "       [0.52542373, 0.47457627],\n",
       "       [1.        , 0.        ],\n",
       "       [0.0106383 , 0.9893617 ],\n",
       "       [0.99453552, 0.00546448],\n",
       "       [0.02659574, 0.97340426],\n",
       "       [1.        , 0.        ],\n",
       "       [1.        , 0.        ],\n",
       "       [1.        , 0.        ],\n",
       "       [0.        , 1.        ],\n",
       "       [0.98275862, 0.01724138],\n",
       "       [0.        , 1.        ],\n",
       "       [0.08421053, 0.91578947],\n",
       "       [0.        , 1.        ],\n",
       "       [0.        , 1.        ],\n",
       "       [1.        , 0.        ],\n",
       "       [1.        , 0.        ],\n",
       "       [0.        , 1.        ],\n",
       "       [1.        , 0.        ],\n",
       "       [0.00564972, 0.99435028],\n",
       "       [1.        , 0.        ],\n",
       "       [0.14124294, 0.85875706],\n",
       "       [0.        , 1.        ],\n",
       "       [0.        , 1.        ],\n",
       "       [0.        , 1.        ],\n",
       "       [0.37125749, 0.62874251],\n",
       "       [0.08695652, 0.91304348],\n",
       "       [0.23255814, 0.76744186],\n",
       "       [1.        , 0.        ],\n",
       "       [0.98181818, 0.01818182],\n",
       "       [0.19444444, 0.80555556],\n",
       "       [0.9902439 , 0.0097561 ],\n",
       "       [0.        , 1.        ],\n",
       "       [0.        , 1.        ],\n",
       "       [1.        , 0.        ],\n",
       "       [0.95930233, 0.04069767],\n",
       "       [0.34285714, 0.65714286],\n",
       "       [0.98843931, 0.01156069],\n",
       "       [1.        , 0.        ],\n",
       "       [0.        , 1.        ],\n",
       "       [1.        , 0.        ],\n",
       "       [0.00561798, 0.99438202],\n",
       "       [0.02139037, 0.97860963],\n",
       "       [1.        , 0.        ],\n",
       "       [1.        , 0.        ],\n",
       "       [0.02564103, 0.97435897],\n",
       "       [0.6344086 , 0.3655914 ]])"
      ]
     },
     "execution_count": 13,
     "metadata": {},
     "output_type": "execute_result"
    }
   ],
   "source": [
    "bag_clf.oob_decision_function_"
   ]
  },
  {
   "cell_type": "markdown",
   "metadata": {},
   "source": [
    "# 7.3 랜덤 패치와 랜덤 서브스페이스\n",
    "\n",
    "#### 랜덤 패치:\n",
    "- 훈련 특성과 샘플을 모두 샘플링하는 것\n",
    "- ```bootstrap=True```, ```bootstrap_features=True```\n",
    "\n",
    "#### 랜덤 서브스페이스:\n",
    "- 훈련 샘플을 모두 사용하고 특성은 샘플링하는 것\n",
    "- ```bootstrap=False```, ```bootstrap_features=True```\n",
    "\n",
    "특성 샘플링은 더 다양한 예측기를 만들며 편향을 늘리는 대신 분산을 낮춤."
   ]
  },
  {
   "cell_type": "markdown",
   "metadata": {},
   "source": [
    "# 7.4 랜덤 포레스트"
   ]
  },
  {
   "cell_type": "markdown",
   "metadata": {},
   "source": [
    "다음은 (최대 16개의 리프 노드를 갖는) 500개 트리로 이뤄진 랜덤 포레스트 분류기를 여러 CPU 코어에서 훈련시키는 코드입니다.(p. 254)"
   ]
  },
  {
   "cell_type": "code",
   "execution_count": 14,
   "metadata": {},
   "outputs": [],
   "source": [
    "# RandomClassifier\n",
    "from sklearn.ensemble import RandomForestClassifier\n",
    "\n",
    "rnd_clf = RandomForestClassifier(n_estimators=500, max_leaf_nodes=16, n_jobs=-1)\n",
    "rnd_clf.fit(X_train, y_train)\n",
    "\n",
    "y_pred_rf = rnd_clf.predict(X_test)"
   ]
  },
  {
   "cell_type": "markdown",
   "metadata": {},
   "source": [
    "다음은 BaggingClassifier를 사용해 앞의 RandomForestClassifier와 거의 유사하게 만든 것입니다.(p. 255)"
   ]
  },
  {
   "cell_type": "code",
   "execution_count": 15,
   "metadata": {},
   "outputs": [],
   "source": [
    "# BaggingClassifier > DecisionTreeClassifier\n",
    "bag_clf = BaggingClassifier(\n",
    "    DecisionTreeClassifier(max_features='auto', max_leaf_nodes=16),\n",
    "    n_estimators=500, max_samples=1.0, bootstrap=True, n_jobs=-1)"
   ]
  },
  {
   "cell_type": "markdown",
   "metadata": {},
   "source": [
    "## 7.4.1 엑스트라 트리(익스트림 랜덤 트리)\n",
    "랜덤 포레스트에서 트리가 성장할 때 각 노드에서 특성의 일부를 무작위로 선택해 분할에 사용함.\n",
    "* 일반 결정 트리: 가능한 **최선의 임계점**을 찾음.\n",
    "* 엑스트라 트리\n",
    "    * 각 특성에 대해 **랜덤한 임계점**을 사용함.\n",
    "    * 랜덤 포레스트가 훈련 데이터에 과대적합되는 경우를 피할 수 있음.\n",
    "    * 랜덤 포레스트보다 훨씬 빠르게 훈련됨(예측할 때의 속도는 변함이 없음)."
   ]
  },
  {
   "cell_type": "markdown",
   "metadata": {},
   "source": [
    "## 7.4.2 특성 중요도"
   ]
  },
  {
   "cell_type": "markdown",
   "metadata": {},
   "source": [
    "예를 들어 다음 코드는 (4장에서 소개한) iris 데이터셋에 RandomForestClassifier를 훈련시키고 각 특성의 중요도를 출력합니다.(p. 256)"
   ]
  },
  {
   "cell_type": "code",
   "execution_count": 16,
   "metadata": {},
   "outputs": [
    {
     "name": "stdout",
     "output_type": "stream",
     "text": [
      "sepal length (cm) 0.09574115889105018\n",
      "sepal width (cm) 0.02413722925552473\n",
      "petal length (cm) 0.44351207578282886\n",
      "petal width (cm) 0.43660953607059616\n"
     ]
    }
   ],
   "source": [
    "from sklearn.datasets import load_iris\n",
    "iris = load_iris()\n",
    "rnd_clf = RandomForestClassifier(n_estimators=500, n_jobs=-1)\n",
    "rnd_clf.fit(iris['data'], iris['target'])\n",
    "for name, score in zip(iris['feature_names'], rnd_clf.feature_importances_):\n",
    "    print(name, score)\n",
    "    \n",
    "# sepal: 꽃받침\n",
    "# petal: 꽃잎"
   ]
  },
  {
   "cell_type": "markdown",
   "metadata": {},
   "source": [
    "RandomForestClassifier에서는 불순도 감소를 연관된 훈련 샘플의 수로 가중치를 부여하여 평균을 내고 특성 중요도의 전체 합이 1이 되도록 해서 특성의 상대적 중요도를 ```feature_importances_``` 속성에 저장한다."
   ]
  },
  {
   "cell_type": "markdown",
   "metadata": {},
   "source": [
    "# 7.5 부스팅\n",
    "* 약한 학습기를 여러 개 연결하여 강한 학습기를 만드는 앙상블 방법.\n",
    "* 앞의 모델을 보완해나가면서 일련의 예측기를 학습시킴.\n",
    "1. 에이다부스트\n",
    "2. 그레이디언트 부스팅"
   ]
  },
  {
   "cell_type": "markdown",
   "metadata": {},
   "source": [
    "## 7.5.1 에이다부스트\n",
    "- 이전 모델이 과소적합했던 훈련 샘플의 가중치를 더 높임.\n",
    "- 새로운 예측기는 학습하기 어려운 샘플에 점점 더 맞춰지게 됨.\n",
    "\n",
    "[AdaBoost Math with Example clearly explained Step by Step Machine Learning Ensembles]\n",
    "https://www.youtube.com/watch?v=peh2l4dePBc"
   ]
  },
  {
   "cell_type": "code",
   "execution_count": 17,
   "metadata": {},
   "outputs": [
    {
     "data": {
      "text/plain": [
       "AdaBoostClassifier(base_estimator=DecisionTreeClassifier(max_depth=1),\n",
       "                   learning_rate=0.5, n_estimators=200)"
      ]
     },
     "execution_count": 17,
     "metadata": {},
     "output_type": "execute_result"
    }
   ],
   "source": [
    "from sklearn.ensemble import AdaBoostClassifier\n",
    "\n",
    "ada_clf = AdaBoostClassifier(\n",
    "        DecisionTreeClassifier(max_depth=1), n_estimators=200,\n",
    "    algorithm=\"SAMME.R\", learning_rate=0.5)\n",
    "ada_clf.fit(X_train, y_train)"
   ]
  },
  {
   "cell_type": "markdown",
   "metadata": {},
   "source": [
    "## 7.5.2 그레이디언트 부스팅\n",
    "- 에이다부스트처럼 앙상블에 이전까지의 오차를 보정하도록 예측기를 순차적으로 추가함.\n",
    "- 반복마다 샘플의 가중치 수정(X).\n",
    "- 이전 예측기가 만든 **잔여 오차**에 새로운 예측기를 학습시킴."
   ]
  },
  {
   "cell_type": "markdown",
   "metadata": {},
   "source": [
    "결정 트리를 기반 예측기로 사용하는 간단한 회귀 문제를 풀어보겠습니다. (...) 먼저 DecisionTreeRegressor를 훈련 세트에 학습시켜 보겠습니다.\n",
    "\n",
    "$$y=3X^2 + 0.05 + noise$$"
   ]
  },
  {
   "cell_type": "code",
   "execution_count": 18,
   "metadata": {},
   "outputs": [],
   "source": [
    "np.random.seed(42)\n",
    "X = np.random.rand(100, 1) - 0.5\n",
    "y = 3*X[:, 0]**2 + 0.05 * np.random.randn(100)"
   ]
  },
  {
   "cell_type": "code",
   "execution_count": 19,
   "metadata": {},
   "outputs": [
    {
     "data": {
      "text/plain": [
       "DecisionTreeRegressor(max_depth=2, random_state=42)"
      ]
     },
     "execution_count": 19,
     "metadata": {},
     "output_type": "execute_result"
    }
   ],
   "source": [
    "from sklearn.tree import DecisionTreeRegressor\n",
    "\n",
    "tree_reg1 = DecisionTreeRegressor(max_depth=2, random_state=42)\n",
    "tree_reg1.fit(X, y)"
   ]
  },
  {
   "cell_type": "markdown",
   "metadata": {},
   "source": [
    "이제 첫 번째 예측기에서 생긴 잔여 오차에 두 번째 DecisionTreeRegressor를 훈련시킵니다."
   ]
  },
  {
   "cell_type": "code",
   "execution_count": 20,
   "metadata": {},
   "outputs": [
    {
     "data": {
      "text/plain": [
       "DecisionTreeRegressor(max_depth=2, random_state=42)"
      ]
     },
     "execution_count": 20,
     "metadata": {},
     "output_type": "execute_result"
    }
   ],
   "source": [
    "y2 = y - tree_reg1.predict(X)  # 첫 번째 예측기가 만든 잔여 오차\n",
    "\n",
    "tree_reg2 = DecisionTreeRegressor(max_depth=2, random_state=42)\n",
    "tree_reg2.fit(X, y2)"
   ]
  },
  {
   "cell_type": "markdown",
   "metadata": {},
   "source": [
    "그런 다음 두 번째 예측기가 만든 잔여 오차에 세 번째 회귀 모델을 훈련시킵니다."
   ]
  },
  {
   "cell_type": "code",
   "execution_count": 21,
   "metadata": {},
   "outputs": [
    {
     "data": {
      "text/plain": [
       "DecisionTreeRegressor(max_depth=2, random_state=42)"
      ]
     },
     "execution_count": 21,
     "metadata": {},
     "output_type": "execute_result"
    }
   ],
   "source": [
    "y3 = y2 - tree_reg2.predict(X)  # 두 번째 예측기가 만든 잔여 오차\n",
    "\n",
    "tree_reg3 = DecisionTreeRegressor(max_depth=2, random_state=42)\n",
    "tree_reg3.fit(X, y3)"
   ]
  },
  {
   "cell_type": "markdown",
   "metadata": {},
   "source": [
    "이제 세 개의 트리를 포함하는 앙상블 모델이 생겼습니다. 새로운 샘플에 대한 예측을 만들려면 모든 트리의 예측을 더하면 됩니다."
   ]
  },
  {
   "cell_type": "code",
   "execution_count": 22,
   "metadata": {},
   "outputs": [
    {
     "name": "stdout",
     "output_type": "stream",
     "text": [
      "y_pred : [0.75026781]\n"
     ]
    }
   ],
   "source": [
    "X_new = np.array([[0.8]])  # new data\n",
    "\n",
    "y_pred = sum(tree.predict(X_new) for tree in (tree_reg1, tree_reg2, tree_reg3))\n",
    "print('y_pred :', y_pred)"
   ]
  },
  {
   "cell_type": "markdown",
   "metadata": {},
   "source": [
    "사이킷런의 GradientBoostingRegressor를 사용하면 GBRT 앙상블을 간단하게 훈련시킬 수 있습니다. (...) 다음은 이전에 만든 것과 같은 앙상블을 만드는 코드입니다. (p. 263)"
   ]
  },
  {
   "cell_type": "code",
   "execution_count": 23,
   "metadata": {},
   "outputs": [
    {
     "data": {
      "text/plain": [
       "GradientBoostingRegressor(learning_rate=1.0, max_depth=2, n_estimators=3)"
      ]
     },
     "execution_count": 23,
     "metadata": {},
     "output_type": "execute_result"
    }
   ],
   "source": [
    "from sklearn.ensemble import GradientBoostingRegressor\n",
    "\n",
    "gbrt = GradientBoostingRegressor(max_depth=2, n_estimators=3, learning_rate=1.0)\n",
    "gbrt.fit(X, y)"
   ]
  },
  {
   "cell_type": "code",
   "execution_count": 24,
   "metadata": {},
   "outputs": [
    {
     "data": {
      "image/png": "[encoded data removed]",
      "text/plain": [
       "<Figure size 792x792 with 6 Axes>"
      ]
     },
     "metadata": {
      "needs_background": "light"
     },
     "output_type": "display_data"
    }
   ],
   "source": [
    "import warnings\n",
    "warnings.filterwarnings(action='ignore')\n",
    "\n",
    "def plot_predictions(regressors, X, y, axes, label=None, style=\"r-\", data_style=\"b.\", data_label=None):\n",
    "    x1 = np.linspace(axes[0], axes[1], 500)\n",
    "    y_pred = sum(regressor.predict(x1.reshape(-1, 1)) for regressor in regressors)\n",
    "    plt.plot(X[:, 0], y, data_style, label=data_label)\n",
    "    plt.plot(x1, y_pred, style, linewidth=2, label=label)\n",
    "    if label or data_label:\n",
    "        plt.legend(loc=\"upper center\", fontsize=16)\n",
    "    plt.axis(axes)\n",
    "\n",
    "plt.figure(figsize=(11,11))\n",
    "\n",
    "plt.subplot(321)\n",
    "plot_predictions([tree_reg1], X, y, axes=[-0.5, 0.5, -0.1, 0.8], label=\"$h_1(x_1)$\", style=\"g-\", data_label=\"Training set\")\n",
    "plt.ylabel(\"$y$\", fontsize=16, rotation=0)\n",
    "plt.title(\"Residuals and tree predictions\", fontsize=16)\n",
    "\n",
    "plt.subplot(322)\n",
    "plot_predictions([tree_reg1], X, y, axes=[-0.5, 0.5, -0.1, 0.8], label=\"$h(x_1) = h_1(x_1)$\", data_label=\"Training set\")\n",
    "plt.ylabel(\"$y$\", fontsize=16, rotation=0)\n",
    "plt.title(\"Ensemble predictions\", fontsize=16)\n",
    "\n",
    "plt.subplot(323)\n",
    "plot_predictions([tree_reg2], X, y2, axes=[-0.5, 0.5, -0.5, 0.5], label=\"$h_2(x_1)$\", style=\"g-\", data_style=\"k+\", data_label=\"Residuals\")\n",
    "plt.ylabel(\"$y - h_1(x_1)$\", fontsize=16)\n",
    "\n",
    "plt.subplot(324)\n",
    "plot_predictions([tree_reg1, tree_reg2], X, y, axes=[-0.5, 0.5, -0.1, 0.8], label=\"$h(x_1) = h_1(x_1) + h_2(x_1)$\")\n",
    "plt.ylabel(\"$y$\", fontsize=16, rotation=0)\n",
    "\n",
    "plt.subplot(325)\n",
    "plot_predictions([tree_reg3], X, y3, axes=[-0.5, 0.5, -0.5, 0.5], label=\"$h_3(x_1)$\", style=\"g-\", data_style=\"k+\")\n",
    "plt.ylabel(\"$y - h_1(x_1) - h_2(x_1)$\", fontsize=16)\n",
    "plt.xlabel(\"$x_1$\", fontsize=16)\n",
    "\n",
    "plt.subplot(326)\n",
    "plot_predictions([tree_reg1, tree_reg2, tree_reg3], X, y, axes=[-0.5, 0.5, -0.1, 0.8], label=\"$h(x_1) = h_1(x_1) + h_2(x_1) + h_3(x_1)$\")\n",
    "plt.xlabel(\"$x_1$\", fontsize=16)\n",
    "plt.ylabel(\"$y$\", fontsize=16, rotation=0)\n",
    "\n",
    "plt.show()"
   ]
  },
  {
   "cell_type": "markdown",
   "metadata": {},
   "source": [
    "## LEARNING RATE"
   ]
  },
  {
   "cell_type": "code",
   "execution_count": 25,
   "metadata": {
    "scrolled": true
   },
   "outputs": [
    {
     "data": {
      "text/plain": [
       "GradientBoostingRegressor(learning_rate=1, max_depth=2, n_estimators=3,\n",
       "                          random_state=42)"
      ]
     },
     "execution_count": 25,
     "metadata": {},
     "output_type": "execute_result"
    }
   ],
   "source": [
    "from sklearn.ensemble import GradientBoostingRegressor\n",
    "\n",
    "gbrt = GradientBoostingRegressor(max_depth=2, n_estimators=3, learning_rate=1, random_state=42)\n",
    "gbrt.fit(X, y)"
   ]
  },
  {
   "cell_type": "code",
   "execution_count": 26,
   "metadata": {},
   "outputs": [
    {
     "name": "stdout",
     "output_type": "stream",
     "text": [
      "y_pred : [0.75026781]\n"
     ]
    }
   ],
   "source": [
    "print('y_pred :', gbrt.predict(X_new))"
   ]
  },
  {
   "cell_type": "code",
   "execution_count": 27,
   "metadata": {},
   "outputs": [
    {
     "data": {
      "text/plain": [
       "GradientBoostingRegressor(max_depth=2, n_estimators=200, random_state=42)"
      ]
     },
     "execution_count": 27,
     "metadata": {},
     "output_type": "execute_result"
    }
   ],
   "source": [
    "gbrt_slow = GradientBoostingRegressor(max_depth=2, n_estimators=200, learning_rate=0.1, random_state=42)\n",
    "gbrt_slow.fit(X, y)"
   ]
  },
  {
   "cell_type": "code",
   "execution_count": 28,
   "metadata": {
    "scrolled": true
   },
   "outputs": [
    {
     "data": {
      "image/png": "[encoded data removed]",
      "text/plain": [
       "<Figure size 792x288 with 2 Axes>"
      ]
     },
     "metadata": {
      "needs_background": "light"
     },
     "output_type": "display_data"
    }
   ],
   "source": [
    "plt.figure(figsize=(11,4))\n",
    "\n",
    "plt.subplot(121)\n",
    "plot_predictions([gbrt], X, y, axes=[-0.5, 0.5, -0.1, 0.8], label=\"Ensemble predictions\")\n",
    "plt.title(\"learning_rate={}, n_estimators={}\".format(gbrt.learning_rate, gbrt.n_estimators), fontsize=14)\n",
    "\n",
    "plt.subplot(122)\n",
    "plot_predictions([gbrt_slow], X, y, axes=[-0.5, 0.5, -0.1, 0.8])\n",
    "plt.title(\"learning_rate={}, n_estimators={}\".format(gbrt_slow.learning_rate, gbrt_slow.n_estimators), fontsize=14)\n",
    "\n",
    "plt.show()"
   ]
  },
  {
   "cell_type": "markdown",
   "metadata": {},
   "source": [
    "**최적의 트리 수를 찾기 위해** 조기 종료 기법을 사용할 수 있다."
   ]
  },
  {
   "cell_type": "markdown",
   "metadata": {},
   "source": [
    "다음 코드는 120개의 트리로 GBRT 앙상블을 훈련시키고 최적의 트리 수를 찾기 위해 각 훈련 단계에서 검증 오차를 측정합니다. 마지막에 최적의 트리 수를 사용해 새로운 GBRT 앙상블을 훈련시킵니다."
   ]
  },
  {
   "cell_type": "markdown",
   "metadata": {},
   "source": [
    "- ```staged_predict()```: Predict regression target at each stage for X.\n",
    "- ```argmin```: 함수 f(x)를 최소 값으로 만들기 위한 x 값을 구한다."
   ]
  },
  {
   "cell_type": "code",
   "execution_count": 29,
   "metadata": {},
   "outputs": [
    {
     "data": {
      "text/plain": [
       "GradientBoostingRegressor(max_depth=2, n_estimators=53)"
      ]
     },
     "execution_count": 29,
     "metadata": {},
     "output_type": "execute_result"
    }
   ],
   "source": [
    "import numpy as np\n",
    "from sklearn.model_selection import train_test_split\n",
    "from sklearn.metrics import mean_squared_error\n",
    "\n",
    "X_train, X_val, y_train, y_val = train_test_split(X, y)\n",
    "\n",
    "gbrt = GradientBoostingRegressor(max_depth=2, n_estimators=120)\n",
    "gbrt.fit(X_train, y_train)\n",
    "\n",
    "# 최적의 트리 개수 찾기\n",
    "errors = [mean_squared_error(y_val, y_pred)\n",
    "         for y_pred in gbrt.staged_predict(X_val)]  #staged_predict() 메소드\n",
    "bst_n_estimators = np.argmin(errors) + 1\n",
    "# np.argim(array) : array에서 최솟값의 인덱스를 반환\n",
    "# 즉, 최소값을 갖게하는 인덱스로 최적 트리의 수를 판단\n",
    "\n",
    "# 최적의 트리 개수로 그래이디언트 부스팅 학습\n",
    "gbrt_best = GradientBoostingRegressor(max_depth=2, n_estimators=bst_n_estimators)\n",
    "gbrt_best.fit(X_train, y_train)"
   ]
  },
  {
   "cell_type": "markdown",
   "metadata": {},
   "source": [
    "학습 과정에서 최적의 트리 개수를 찾았을 때, 학습을 조기종료 하는 예제(오차를 계속해서 줄이다가 5번 이상 줄어들지 않는다면 조기 종료를 시킴)."
   ]
  },
  {
   "cell_type": "code",
   "execution_count": 30,
   "metadata": {},
   "outputs": [],
   "source": [
    "gbrt = GradientBoostingRegressor(max_depth=2, warm_start=True, random_state=42)     #warm_start=True\n",
    "\n",
    "min_val_error = float(\"inf\")\n",
    "error_going_up = 0\n",
    "for n_estimators in range(1, 120):\n",
    "    gbrt.n_estimators = n_estimators\n",
    "    gbrt.fit(X_train, y_train)\n",
    "    y_pred = gbrt.predict(X_val)\n",
    "    val_error = mean_squared_error(y_val, y_pred)\n",
    "    if val_error < min_val_error:           # 초기 min_val_error는 무한대(inf)\n",
    "        min_val_error = val_error           # 누적\n",
    "        error_going_up = 0                  # 연속해서 5번이나 MSE가 기존보다 크면\n",
    "    else:\n",
    "        error_going_up += 1\n",
    "        if error_going_up == 5:\n",
    "            break                          # 조기 종료"
   ]
  },
  {
   "cell_type": "code",
   "execution_count": 31,
   "metadata": {},
   "outputs": [
    {
     "data": {
      "image/png": "[encoded data removed]",
      "text/plain": [
       "<Figure size 792x288 with 2 Axes>"
      ]
     },
     "metadata": {
      "needs_background": "light"
     },
     "output_type": "display_data"
    }
   ],
   "source": [
    "min_error = np.min(errors)\n",
    "\n",
    "plt.figure(figsize=(11, 4))\n",
    "\n",
    "plt.subplot(121)\n",
    "plt.plot(errors, \"b.-\")\n",
    "plt.plot([bst_n_estimators, bst_n_estimators], [0, min_error])\n",
    "plt.plot([0, 120], [min_error, min_error])\n",
    "plt.plot(bst_n_estimators, min_error)\n",
    "plt.text(bst_n_estimators, min_error*1.2, \"Minimum\", ha=\"center\", fontsize=14)\n",
    "plt.axis([0, 120, 0, 0.01])\n",
    "plt.xlabel(\"Number of trees\")\n",
    "plt.title(\"Validation error\", fontsize=14)\n",
    "\n",
    "plt.subplot(122)\n",
    "plot_predictions([gbrt_best], X, y, axes=[-0.5, 0.5, -0.1, 0.8])\n",
    "plt.title(\"Best model (%d trees)\" % bst_n_estimators, fontsize=14)\n",
    "\n",
    "plt.show()"
   ]
  },
  {
   "cell_type": "code",
   "execution_count": 32,
   "metadata": {},
   "outputs": [
    {
     "name": "stdout",
     "output_type": "stream",
     "text": [
      "최적의 트리 개수 : 47\n",
      "최소 검증 MSE: 0.003554071291988297\n"
     ]
    }
   ],
   "source": [
    "print('최적의 트리 개수 :', gbrt.n_estimators)\n",
    "print(\"최소 검증 MSE:\", min_val_error)"
   ]
  },
  {
   "cell_type": "markdown",
   "metadata": {},
   "source": [
    "# 7.6 스태킹\n",
    "앙상블 학습에서 각 모델의 예측값을 가지고 새로운 **블렌더** 또는 **메타 학습기**를 학습시켜 최종 예측 모델을 만드는 방법.\n",
    "\n",
    "* 원본 데이터의 train, test 데이터셋 존재\n",
    "* 원본 training data를 3개의 머신러닝 모델이 학습\n",
    "* 각 모델마다 X_test를 넣어서 예측 후 predict를 뽑아냄 (3개의 predict된 값)\n",
    "* 3개의 predict를 다시 학습 데이터로 사용\n",
    "* 최종 모델(블렌더/메타 학습기)를 선정해 학습\n",
    "* 최종 평가"
   ]
  },
  {
   "cell_type": "markdown",
   "metadata": {},
   "source": [
    "--------------------------------\n",
    "### 앙상블 학습의 유형\n",
    "**1. 보팅**\n",
    "- 직접 투표\n",
    "- 간접 투표\n",
    "\n",
    "**2. 배깅 & 페이스팅**\n",
    "- oob 평가\n",
    "\n",
    "**3. 부스팅**\n",
    "- 1) 에이다부스트\n",
    "- 2) 그레이디언트 부스팅\n",
    "\n",
    "**4. 스태킹**\n",
    "\n",
    "-----------------------------\n",
    "### 앙상블 모델\n",
    "\n",
    "**1. 랜덤 포레스트**\n",
    "- 엑스트라 트리\n",
    "- 특성 중요도"
   ]
  }
 ],
 "metadata": {
  "kernelspec": {
   "display_name": "Python 3",
   "language": "python",
   "name": "python3"
  },
  "language_info": {
   "codemirror_mode": {
    "name": "ipython",
    "version": 3
   },
   "file_extension": ".py",
   "mimetype": "text/x-python",
   "name": "python",
   "nbconvert_exporter": "python",
   "pygments_lexer": "ipython3",
   "version": "3.8.5"
  }
 },
 "nbformat": 4,
 "nbformat_minor": 4
}
