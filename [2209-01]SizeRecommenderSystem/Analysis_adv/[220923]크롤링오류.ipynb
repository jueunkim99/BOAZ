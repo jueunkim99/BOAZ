{
 "cells": [
  {
   "cell_type": "code",
   "execution_count": 1,
   "id": "2102af7c",
   "metadata": {},
   "outputs": [
    {
     "name": "stdout",
     "output_type": "stream",
     "text": [
      "Requirement already satisfied: selenium in c:\\anaconda3\\lib\\site-packages (4.1.0)\n",
      "Requirement already satisfied: trio~=0.17 in c:\\anaconda3\\lib\\site-packages (from selenium) (0.19.0)\n",
      "Requirement already satisfied: urllib3[secure]~=1.26 in c:\\anaconda3\\lib\\site-packages (from selenium) (1.26.7)\n",
      "Requirement already satisfied: trio-websocket~=0.9 in c:\\anaconda3\\lib\\site-packages (from selenium) (0.9.2)\n",
      "Requirement already satisfied: attrs>=19.2.0 in c:\\anaconda3\\lib\\site-packages (from trio~=0.17->selenium) (21.4.0)\n",
      "Requirement already satisfied: async-generator>=1.9 in c:\\anaconda3\\lib\\site-packages (from trio~=0.17->selenium) (1.10)\n",
      "Requirement already satisfied: sniffio in c:\\anaconda3\\lib\\site-packages (from trio~=0.17->selenium) (1.2.0)\n",
      "Requirement already satisfied: sortedcontainers in c:\\anaconda3\\lib\\site-packages (from trio~=0.17->selenium) (2.4.0)\n",
      "Requirement already satisfied: idna in c:\\anaconda3\\lib\\site-packages (from trio~=0.17->selenium) (3.3)\n",
      "Requirement already satisfied: outcome in c:\\anaconda3\\lib\\site-packages (from trio~=0.17->selenium) (1.1.0)\n",
      "Requirement already satisfied: cffi>=1.14 in c:\\anaconda3\\lib\\site-packages (from trio~=0.17->selenium) (1.15.0)\n",
      "Requirement already satisfied: pycparser in c:\\anaconda3\\lib\\site-packages (from cffi>=1.14->trio~=0.17->selenium) (2.21)\n",
      "Requirement already satisfied: wsproto>=0.14 in c:\\anaconda3\\lib\\site-packages (from trio-websocket~=0.9->selenium) (1.0.0)\n",
      "Requirement already satisfied: pyOpenSSL>=0.14 in c:\\anaconda3\\lib\\site-packages (from urllib3[secure]~=1.26->selenium) (21.0.0)\n",
      "Requirement already satisfied: cryptography>=1.3.4 in c:\\anaconda3\\lib\\site-packages (from urllib3[secure]~=1.26->selenium) (3.4.8)\n",
      "Requirement already satisfied: certifi in c:\\anaconda3\\lib\\site-packages (from urllib3[secure]~=1.26->selenium) (2022.5.18.1)\n",
      "Requirement already satisfied: six>=1.5.2 in c:\\anaconda3\\lib\\site-packages (from pyOpenSSL>=0.14->urllib3[secure]~=1.26->selenium) (1.16.0)\n",
      "Requirement already satisfied: h11<1,>=0.9.0 in c:\\anaconda3\\lib\\site-packages (from wsproto>=0.14->trio-websocket~=0.9->selenium) (0.13.0)\n"
     ]
    },
    {
     "name": "stderr",
     "output_type": "stream",
     "text": [
      "WARNING: You are using pip version 22.1.2; however, version 22.2.2 is available.\n",
      "You should consider upgrading via the 'C:\\anaconda3\\python.exe -m pip install --upgrade pip' command.\n"
     ]
    }
   ],
   "source": [
    "!pip install selenium"
   ]
  },
  {
   "cell_type": "code",
   "execution_count": 2,
   "id": "dd99b741",
   "metadata": {},
   "outputs": [],
   "source": [
    "from selenium import webdriver\n",
    "from bs4 import BeautifulSoup\n",
    "import time\n",
    "import re\n",
    "import time"
   ]
  },
  {
   "cell_type": "code",
   "execution_count": 3,
   "id": "3c1147fe",
   "metadata": {},
   "outputs": [],
   "source": [
    "#함수정의:검색어 조건에 따른 url생성\n",
    "def musinsa_searching(word):\n",
    "  url = \"https://www.musinsa.com/app/goods/1848166\" \n",
    "  return url"
   ]
  },
  {
   "cell_type": "code",
   "execution_count": 4,
   "id": "c99b7e27",
   "metadata": {},
   "outputs": [
    {
     "name": "stderr",
     "output_type": "stream",
     "text": [
      "C:\\Users\\rlawndms\\AppData\\Local\\Temp/ipykernel_18488/3544841581.py:3: DeprecationWarning: executable_path has been deprecated, please pass in a Service object\n",
      "  driver = webdriver.Chrome(executable_path='F:/boaz/[202207]문화공모전/chromedriver.exe')\n"
     ]
    }
   ],
   "source": [
    "#driver = webdriver.Chrome('chromedriver.exe')\n",
    "#F:\\boaz\\[202207]문화공모전\n",
    "driver = webdriver.Chrome(executable_path='F:/boaz/[202207]문화공모전/chromedriver.exe')\n",
    "#!pip install webdriver-manager\n",
    "#from selenium import webdriver\n",
    "#from webdriver_manager.chrome import ChromeDriverManager\n",
    "#driver = webdriver.Chrome(ChromeDriverManager().install())\n",
    "driver.get('https://www.musinsa.com/app/goods/1848166')\n",
    "time.sleep(3)"
   ]
  },
  {
   "cell_type": "code",
   "execution_count": 5,
   "id": "ccd37928",
   "metadata": {},
   "outputs": [
    {
     "ename": "SyntaxError",
     "evalue": "invalid syntax (Temp/ipykernel_18488/3708431853.py, line 14)",
     "output_type": "error",
     "traceback": [
      "\u001b[1;36m  File \u001b[1;32m\"C:\\Users\\rlawndms\\AppData\\Local\\Temp/ipykernel_18488/3708431853.py\"\u001b[1;36m, line \u001b[1;32m14\u001b[0m\n\u001b[1;33m    for\u001b[0m\n\u001b[1;37m       ^\u001b[0m\n\u001b[1;31mSyntaxError\u001b[0m\u001b[1;31m:\u001b[0m invalid syntax\n"
     ]
    }
   ],
   "source": [
    "import re\n",
    "from bs4 import BeautifulSoup\n",
    "\n",
    "#boxes = driver.find_elements_by_css_selector(\"div#reviewListFragment.reveiw-list-wrap\")\n",
    "#boxes= driver.find_elements_by_css_selector(\"div.reveiw-list\")\n",
    "#함수정의: 본문내용, 작성일자, 좋아요수, 위치, 해시태그 가져오기\n",
    "\n",
    "\n",
    "def get_content(driver):\n",
    "    review_list=[]\n",
    "    html = driver.page_source\n",
    "    soup = BeautifulSoup(html,'lxml')\n",
    "    \n",
    "    for\n",
    "    \n",
    "    try:\n",
    "        profile = soup.select('div.review-profile__information')[0].text\n",
    "    except:\n",
    "        profile = ''\n",
    "  #item\n",
    "    item = soup.select('div.review-goods-information__item')[0].text\n",
    "\n",
    "  #작성일자\n",
    "  #date = soup.select('time._1o9PC')[0]['datetime'][:10]\n",
    "\n",
    "  #내용\n",
    "    try:\n",
    "        content = soup.select('div.review-contents__text')[0].text\n",
    "    except:\n",
    "        content = ''\n",
    "  \n",
    "  #위치\n",
    "    try:\n",
    "        evaluation = soup.select('div.review-evaluation')[0].text\n",
    "    except:\n",
    "        evaluation = ''\n",
    "\n",
    "    data={\n",
    "        'profile': profile,\n",
    "        'itme' :item,\n",
    "        'content' : content,\n",
    "        'evaluation' : evaluation\n",
    "    }\n",
    "    review_list.append(data)\n",
    "          #data.append(data)\n",
    "    return review_list\n",
    "\n",
    "#함수정의\n",
    "#//*[@id=\"reviewListFragment\"]/div[11]/div[2]/div/a[4]\n",
    "def move_one(driver):\n",
    "  right=driver.find_element_by_xpath(\"//*[@id='reviewListFragment']/div[11]/div[2]/div/a[4]\")\n",
    "  right.click()\n",
    "  time.sleep(3)\n",
    "\n",
    "def move_two(driver):\n",
    "  right=driver.find_element_by_xpath(\"//*[@id='reviewListFragment']/div[11]/div[2]/div/a[5]\")\n",
    "  right.click()\n",
    "  time.sleep(3)\n",
    "\n",
    "def move_three(driver):\n",
    "  right=driver.find_element_by_xpath(\"//*[@id='reviewListFragment']/div[11]/div[2]/div/a[6]\")\n",
    "  right.click()\n",
    "  time.sleep(3)\n",
    "\n",
    "def move_four(driver):\n",
    "  right=driver.find_element_by_xpath(\"//*[@id='reviewListFragment']/div[11]/div[2]/div/a[7]\")\n",
    "  right.click()\n",
    "  time.sleep(3)\n",
    "\n",
    "def move_next(driver):\n",
    "  right=driver.find_element_by_xpath(\"//*[@id='reviewListFragment']/div[11]/div[2]/div/a[8]\")\n",
    "  right.click()\n",
    "  time.sleep(3)\n",
    "\n"
   ]
  },
  {
   "cell_type": "code",
   "execution_count": 11,
   "id": "0e4832c6",
   "metadata": {},
   "outputs": [
    {
     "name": "stdout",
     "output_type": "stream",
     "text": [
      "[]\n"
     ]
    },
    {
     "name": "stderr",
     "output_type": "stream",
     "text": [
      "C:\\Users\\rlawndms\\AppData\\Local\\Temp/ipykernel_17656/784115647.py:5: DeprecationWarning: find_elements_by_* commands are deprecated. Please use find_elements() instead\n",
      "  boxes = driver.find_elements_by_css_selector(\"div.reveiw-list\")\n"
     ]
    }
   ],
   "source": [
    "results = []\n",
    "#수집할게시물의 수\n",
    "target = 2\n",
    "#box_list=[]\n",
    "boxes = driver.find_elements_by_css_selector(\"div.reveiw-list\")\n",
    "#boxes = driver.find_elements_by_css_selector(\"div#reviewListFragment.reveiw-list-wrap\")\n",
    "for i in boxes:\n",
    "    \n",
    "    #for j in boxes:\n",
    "     try:\n",
    "        review_list = get_content(driver)\n",
    "        results.append(data)\n",
    "    #move_next(driver)\n",
    "     except:\n",
    "        time.sleep(2)\n",
    "    #move_next(driver)\n",
    "\n",
    "print(results)"
   ]
  },
  {
   "cell_type": "code",
   "execution_count": 40,
   "id": "221e97a1",
   "metadata": {},
   "outputs": [
    {
     "name": "stdout",
     "output_type": "stream",
     "text": [
      "[[[...]]]\n"
     ]
    }
   ],
   "source": [
    "print(box_list[0:1])"
   ]
  },
  {
   "cell_type": "code",
   "execution_count": 10,
   "id": "351bff02",
   "metadata": {},
   "outputs": [],
   "source": [
    "import re\n",
    "from bs4 import BeautifulSoup\n",
    "\n",
    "#boxes = driver.find_elements_by_css_selector(\"div#reviewListFragment.reveiw-list-wrap\")\n",
    "#boxes= driver.find_elements_by_css_selector(\"div.reveiw-list\")\n",
    "#함수정의: 본문내용, 작성일자, 좋아요수, 위치, 해시태그 가져오기\n",
    "#//*[@id=\"reviewListFragment\"]/\n",
    "\n",
    "def get_content(driver):\n",
    "    #review_list=[]\n",
    "    #reviews = soup.find_all('div', \"review-list\")\n",
    "    #boxes= driver.find_element_by_xpath(\"//*[@id='reviewListFragment']\")\n",
    "    html = driver.page_source\n",
    "    soup = BeautifulSoup(html,'lxml')\n",
    "    \n",
    "    for i in range(10):\n",
    "        try:\n",
    "            profile = soup.select('div.review-profile__information')[0].text\n",
    "        except:\n",
    "            profile = ''\n",
    "  #item\n",
    "        item = soup.select('div.review-goods-information__item')[0].text\n",
    "\n",
    "  #작성일자\n",
    "  #date = soup.select('time._1o9PC')[0]['datetime'][:10]\n",
    "\n",
    "  #내용\n",
    "        try:\n",
    "            content = soup.select('div.review-contents__text')[0].text\n",
    "        except:\n",
    "            content = ''\n",
    "  \n",
    "  #위치\n",
    "        try:\n",
    "            evaluation = soup.select('div.review-evaluation')[0].text\n",
    "        except:\n",
    "            evaluation = ''\n",
    "\n",
    "        data=[profile,item,content,evaluation]\n",
    "        data.append(data)\n",
    "          #data.append(data)\n",
    "    return data\n",
    "\n",
    "#함수정의\n",
    "#//*[@id=\"reviewListFragment\"]/div[11]/div[2]/div/a[4]\n",
    "def move_one(driver):\n",
    "  right=driver.find_element_by_xpath(\"//*[@id='reviewListFragment']/div[11]/div[2]/div/a[4]\")\n",
    "  right.click()\n",
    "  time.sleep(3)\n",
    "\n",
    "def move_two(driver):\n",
    "  right=driver.find_element_by_xpath(\"//*[@id='reviewListFragment']/div[11]/div[2]/div/a[5]\")\n",
    "  right.click()\n",
    "  time.sleep(3)\n",
    "\n",
    "def move_three(driver):\n",
    "  right=driver.find_element_by_xpath(\"//*[@id='reviewListFragment']/div[11]/div[2]/div/a[6]\")\n",
    "  right.click()\n",
    "  time.sleep(3)\n",
    "\n",
    "def move_four(driver):\n",
    "  right=driver.find_element_by_xpath(\"//*[@id='reviewListFragment']/div[11]/div[2]/div/a[7]\")\n",
    "  right.click()\n",
    "  time.sleep(3)\n",
    "\n",
    "def move_next(driver):\n",
    "  right=driver.find_element_by_xpath(\"//*[@id='reviewListFragment']/div[11]/div[2]/div/a[8]\")\n",
    "  right.click()\n",
    "  time.sleep(3)\n",
    "\n"
   ]
  },
  {
   "cell_type": "code",
   "execution_count": 11,
   "id": "674d5fee",
   "metadata": {},
   "outputs": [
    {
     "name": "stdout",
     "output_type": "stream",
     "text": [
      "[['\\n남성, 169cm, 62kg\\n신고\\n', '\\n에센셜 쿨 코튼 2-PACK 티셔츠\\n\\n\\n                                    XL\\n                                    \\n                                구매\\n                        \\n', '완전 원하던 핏이에요. 편하게 입을 수 있어서 완전 만족!', '\\n\\n사이즈 보통이에요\\n밝기 보통이에요\\n색감 보통이에요\\n두께감 보통이에요\\n\\n', [...]]]\n"
     ]
    }
   ],
   "source": [
    "results=[]\n",
    "#review_list=[]\n",
    "target = 1\n",
    "for i in range(target):\n",
    "    \n",
    "    try:\n",
    "        data = get_content(driver)\n",
    "        results.append(data)\n",
    "        #move_next(driver)\n",
    "    except:\n",
    "        time.sleep(2)\n",
    "        #move_next(driver)\n",
    "\n",
    "print(results)\n"
   ]
  },
  {
   "cell_type": "code",
   "execution_count": 21,
   "id": "d3edb0b4",
   "metadata": {},
   "outputs": [],
   "source": [
    "import numpy as np\n",
    "np.set_printoptions(threshold=np.inf,linewidth=np.inf)\n",
    "import pandas as pd\n",
    "pd.set_option('display.max_columns',10)\n",
    "# row 생략 없이 출력\n",
    "pd.set_option('display.max_rows', None)\n",
    "# col 생략 없이 출력\n",
    "pd.set_option('display.max_columns', None)"
   ]
  },
  {
   "cell_type": "code",
   "execution_count": 22,
   "id": "3b943a19",
   "metadata": {},
   "outputs": [
    {
     "name": "stdout",
     "output_type": "stream",
     "text": [
      "[['\\n남성, 169cm, 62kg\\n신고\\n', '\\n에센셜 쿨 코튼 2-PACK 티셔츠\\n\\n\\n                                    XL\\n                                    \\n                                구매\\n                        \\n', '완전 원하던 핏이에요. 편하게 입을 수 있어서 완전 만족!', '\\n\\n사이즈 보통이에요\\n밝기 보통이에요\\n색감 보통이에요\\n두께감 보통이에요\\n\\n', [...]]]\n"
     ]
    }
   ],
   "source": [
    "print(results)"
   ]
  },
  {
   "cell_type": "code",
   "execution_count": null,
   "id": "e2211d5d",
   "metadata": {},
   "outputs": [],
   "source": []
  }
 ],
 "metadata": {
  "kernelspec": {
   "display_name": "Python 3 (ipykernel)",
   "language": "python",
   "name": "python3"
  },
  "language_info": {
   "codemirror_mode": {
    "name": "ipython",
    "version": 3
   },
   "file_extension": ".py",
   "mimetype": "text/x-python",
   "name": "python",
   "nbconvert_exporter": "python",
   "pygments_lexer": "ipython3",
   "version": "3.9.12"
  }
 },
 "nbformat": 4,
 "nbformat_minor": 5
}
